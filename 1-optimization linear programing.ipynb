{
 "cells": [
  {
   "cell_type": "code",
   "execution_count": 2,
   "id": "f6d43dbe",
   "metadata": {},
   "outputs": [
    {
     "name": "stdout",
     "output_type": "stream",
     "text": [
      "Requirement already satisfied: Pulp in ./opt/anaconda3/lib/python3.9/site-packages (2.6.0)\r\n"
     ]
    }
   ],
   "source": [
    "!pip install Pulp"
   ]
  },
  {
   "cell_type": "code",
   "execution_count": 3,
   "id": "01879833",
   "metadata": {},
   "outputs": [],
   "source": [
    "import pulp"
   ]
  },
  {
   "cell_type": "code",
   "execution_count": 4,
   "id": "9d146460",
   "metadata": {},
   "outputs": [],
   "source": [
    "from pulp import LpProblem"
   ]
  },
  {
   "cell_type": "code",
   "execution_count": 4,
   "id": "c9f01584",
   "metadata": {},
   "outputs": [],
   "source": [
    "manufacturing_products_lp=pulp.LpProblem(\"Maximize_profit_pumps\",pulp.LpMaximize)"
   ]
  },
  {
   "cell_type": "code",
   "execution_count": 5,
   "id": "a04b6a55",
   "metadata": {},
   "outputs": [],
   "source": [
    "P1=pulp.LpVariable(\"P1\",lowBound=0,cat=\"Integer\")\n",
    "P2=pulp.LpVariable(\"P2\",lowBound=0,cat=\"Integer\")"
   ]
  },
  {
   "cell_type": "code",
   "execution_count": 6,
   "id": "d1f3b1ca",
   "metadata": {},
   "outputs": [],
   "source": [
    "manufacturing_products_lp += P1+P2,'Z'"
   ]
  },
  {
   "cell_type": "code",
   "execution_count": 7,
   "id": "630a2aa3",
   "metadata": {},
   "outputs": [
    {
     "data": {
      "text/plain": [
       "Maximize_profit_pumps:\n",
       "MAXIMIZE\n",
       "1*P1 + 1*P2 + 0\n",
       "VARIABLES\n",
       "0 <= P1 Integer\n",
       "0 <= P2 Integer"
      ]
     },
     "execution_count": 7,
     "metadata": {},
     "output_type": "execute_result"
    }
   ],
   "source": [
    "manufacturing_products_lp"
   ]
  },
  {
   "cell_type": "code",
   "execution_count": 8,
   "id": "36d4f09b",
   "metadata": {},
   "outputs": [],
   "source": [
    "manufacturing_products_lp += 4*P1+2*P2 <=28,\"plumbing constraint\"\n",
    "manufacturing_products_lp += 2*P1+6*P2 <=30,\"ele constraint\"\n",
    "manufacturing_products_lp += 4*P1+6*P2 <=36,\"build\""
   ]
  },
  {
   "cell_type": "code",
   "execution_count": 9,
   "id": "bdd49084",
   "metadata": {},
   "outputs": [
    {
     "data": {
      "text/plain": [
       "Maximize_profit_pumps:\n",
       "MAXIMIZE\n",
       "1*P1 + 1*P2 + 0\n",
       "SUBJECT TO\n",
       "plumbing_constraint: 4 P1 + 2 P2 <= 28\n",
       "\n",
       "ele_constraint: 2 P1 + 6 P2 <= 30\n",
       "\n",
       "build: 4 P1 + 6 P2 <= 36\n",
       "\n",
       "VARIABLES\n",
       "0 <= P1 Integer\n",
       "0 <= P2 Integer"
      ]
     },
     "execution_count": 9,
     "metadata": {},
     "output_type": "execute_result"
    }
   ],
   "source": [
    "manufacturing_products_lp "
   ]
  },
  {
   "cell_type": "code",
   "execution_count": 10,
   "id": "99c060e6",
   "metadata": {},
   "outputs": [
    {
     "name": "stdout",
     "output_type": "stream",
     "text": [
      "Welcome to the CBC MILP Solver \n",
      "Version: 2.10.3 \n",
      "Build Date: Dec 15 2019 \n",
      "\n",
      "command line - /Users/middhladeekshitha/opt/anaconda3/lib/python3.9/site-packages/pulp/apis/../solverdir/cbc/osx/64/cbc /var/folders/yn/360cvd014rl8mzj87q1ncrtr0000gn/T/2d7174fe14b24cc78757d297bc530bc3-pulp.mps max timeMode elapsed branch printingOptions all solution /var/folders/yn/360cvd014rl8mzj87q1ncrtr0000gn/T/2d7174fe14b24cc78757d297bc530bc3-pulp.sol (default strategy 1)\n",
      "At line 2 NAME          MODEL\n",
      "At line 3 ROWS\n",
      "At line 8 COLUMNS\n",
      "At line 21 RHS\n",
      "At line 25 BOUNDS\n",
      "At line 28 ENDATA\n",
      "Problem MODEL has 3 rows, 2 columns and 6 elements\n",
      "Coin0008I MODEL read with 0 errors\n",
      "Option for timeMode changed from cpu to elapsed\n",
      "Continuous objective value is 8 - 0.00 seconds\n",
      "Cgl0004I processed model has 3 rows, 2 columns (2 integer (0 of which binary)) and 6 elements\n",
      "Cutoff increment increased from 1e-05 to 0.9999\n",
      "Cbc0012I Integer solution of -8 found by DiveCoefficient after 0 iterations and 0 nodes (0.01 seconds)\n",
      "Cbc0001I Search completed - best objective -8, took 0 iterations and 0 nodes (0.01 seconds)\n",
      "Cbc0035I Maximum depth 0, 0 variables fixed on reduced cost\n",
      "Cuts at root node changed objective from -8 to -8\n",
      "Probing was tried 0 times and created 0 cuts of which 0 were active after adding rounds of cuts (0.000 seconds)\n",
      "Gomory was tried 0 times and created 0 cuts of which 0 were active after adding rounds of cuts (0.000 seconds)\n",
      "Knapsack was tried 0 times and created 0 cuts of which 0 were active after adding rounds of cuts (0.000 seconds)\n",
      "Clique was tried 0 times and created 0 cuts of which 0 were active after adding rounds of cuts (0.000 seconds)\n",
      "MixedIntegerRounding2 was tried 0 times and created 0 cuts of which 0 were active after adding rounds of cuts (0.000 seconds)\n",
      "FlowCover was tried 0 times and created 0 cuts of which 0 were active after adding rounds of cuts (0.000 seconds)\n",
      "TwoMirCuts was tried 0 times and created 0 cuts of which 0 were active after adding rounds of cuts (0.000 seconds)\n",
      "ZeroHalf was tried 0 times and created 0 cuts of which 0 were active after adding rounds of cuts (0.000 seconds)\n",
      "\n",
      "Result - Optimal solution found\n",
      "\n",
      "Objective value:                8.00000000\n",
      "Enumerated nodes:               0\n",
      "Total iterations:               0\n",
      "Time (CPU seconds):             0.00\n",
      "Time (Wallclock seconds):       0.01\n",
      "\n",
      "Option for printingOptions changed from normal to all\n",
      "Total time (CPU seconds):       0.00   (Wallclock seconds):       0.02\n",
      "\n"
     ]
    },
    {
     "data": {
      "text/plain": [
       "1"
      ]
     },
     "execution_count": 10,
     "metadata": {},
     "output_type": "execute_result"
    }
   ],
   "source": [
    "manufacturing_products_lp.solve()"
   ]
  },
  {
   "cell_type": "code",
   "execution_count": 11,
   "id": "a1bd6fc0",
   "metadata": {},
   "outputs": [
    {
     "data": {
      "text/plain": [
       "'Optimal'"
      ]
     },
     "execution_count": 11,
     "metadata": {},
     "output_type": "execute_result"
    }
   ],
   "source": [
    "pulp.LpStatus[manufacturing_products_lp.status]"
   ]
  },
  {
   "cell_type": "code",
   "execution_count": 12,
   "id": "35264805",
   "metadata": {
    "scrolled": true
   },
   "outputs": [
    {
     "name": "stdout",
     "output_type": "stream",
     "text": [
      "the optimized solution: 8.0\n",
      "P1 6.0\n",
      "P2 2.0\n"
     ]
    }
   ],
   "source": [
    "print(\"the optimized solution:\",pulp.value(manufacturing_products_lp.objective))\n",
    "for variable in manufacturing_products_lp.variables():\n",
    "    print(variable.name,variable.varValue)"
   ]
  },
  {
   "cell_type": "markdown",
   "id": "10babae0",
   "metadata": {},
   "source": [
    "aquaspa and hydrolux"
   ]
  },
  {
   "cell_type": "code",
   "execution_count": 13,
   "id": "89e60c27",
   "metadata": {},
   "outputs": [],
   "source": [
    "manufacturing_products_lp=pulp.LpProblem(\"Maximize_profit_pumps\",pulp.LpMaximize)"
   ]
  },
  {
   "cell_type": "code",
   "execution_count": 14,
   "id": "8ba2dcad",
   "metadata": {},
   "outputs": [],
   "source": [
    "P1=pulp.LpVariable(\"P1\",lowBound=0,cat=\"Integer\")\n",
    "P2=pulp.LpVariable(\"P2\",lowBound=0,cat=\"Integer\")"
   ]
  },
  {
   "cell_type": "code",
   "execution_count": 15,
   "id": "04922b78",
   "metadata": {},
   "outputs": [],
   "source": [
    "manufacturing_products_lp += 350*P1+300*P2,'Z'"
   ]
  },
  {
   "cell_type": "code",
   "execution_count": 16,
   "id": "cbd76d5d",
   "metadata": {
    "scrolled": true
   },
   "outputs": [
    {
     "data": {
      "text/plain": [
       "Maximize_profit_pumps:\n",
       "MAXIMIZE\n",
       "350*P1 + 300*P2 + 0\n",
       "VARIABLES\n",
       "0 <= P1 Integer\n",
       "0 <= P2 Integer"
      ]
     },
     "execution_count": 16,
     "metadata": {},
     "output_type": "execute_result"
    }
   ],
   "source": [
    "manufacturing_products_lp "
   ]
  },
  {
   "cell_type": "code",
   "execution_count": 17,
   "id": "05cb6f07",
   "metadata": {},
   "outputs": [],
   "source": [
    "manufacturing_products_lp += 9*P1+6*P2 <=1566,\"labour constraint\"\n",
    "manufacturing_products_lp += 3*P1+2*P2 <=2880,\"feeting constraint\"\n",
    "manufacturing_products_lp += P1+P2 <=200,\"pumps\""
   ]
  },
  {
   "cell_type": "code",
   "execution_count": 18,
   "id": "09c5f07f",
   "metadata": {},
   "outputs": [
    {
     "data": {
      "text/plain": [
       "Maximize_profit_pumps:\n",
       "MAXIMIZE\n",
       "350*P1 + 300*P2 + 0\n",
       "SUBJECT TO\n",
       "labour_constraint: 9 P1 + 6 P2 <= 1566\n",
       "\n",
       "feeting_constraint: 3 P1 + 2 P2 <= 2880\n",
       "\n",
       "pumps: P1 + P2 <= 200\n",
       "\n",
       "VARIABLES\n",
       "0 <= P1 Integer\n",
       "0 <= P2 Integer"
      ]
     },
     "execution_count": 18,
     "metadata": {},
     "output_type": "execute_result"
    }
   ],
   "source": [
    "manufacturing_products_lp "
   ]
  },
  {
   "cell_type": "code",
   "execution_count": 19,
   "id": "5e0bf21e",
   "metadata": {},
   "outputs": [
    {
     "name": "stdout",
     "output_type": "stream",
     "text": [
      "Welcome to the CBC MILP Solver \n",
      "Version: 2.10.3 \n",
      "Build Date: Dec 15 2019 \n",
      "\n",
      "command line - /Users/middhladeekshitha/opt/anaconda3/lib/python3.9/site-packages/pulp/apis/../solverdir/cbc/osx/64/cbc /var/folders/yn/360cvd014rl8mzj87q1ncrtr0000gn/T/47a499d605264178b394ff6efbd35307-pulp.mps max timeMode elapsed branch printingOptions all solution /var/folders/yn/360cvd014rl8mzj87q1ncrtr0000gn/T/47a499d605264178b394ff6efbd35307-pulp.sol (default strategy 1)\n",
      "At line 2 NAME          MODEL\n",
      "At line 3 ROWS\n",
      "At line 8 COLUMNS\n",
      "At line 21 RHS\n",
      "At line 25 BOUNDS\n",
      "At line 28 ENDATA\n",
      "Problem MODEL has 3 rows, 2 columns and 6 elements\n",
      "Coin0008I MODEL read with 0 errors\n",
      "Option for timeMode changed from cpu to elapsed\n",
      "Continuous objective value is 66100 - 0.00 seconds\n",
      "Cgl0004I processed model has 2 rows, 2 columns (2 integer (0 of which binary)) and 4 elements\n",
      "Cutoff increment increased from 1e-05 to 49.9999\n",
      "Cbc0012I Integer solution of -66100 found by DiveCoefficient after 0 iterations and 0 nodes (0.00 seconds)\n",
      "Cbc0001I Search completed - best objective -66100, took 0 iterations and 0 nodes (0.00 seconds)\n",
      "Cbc0035I Maximum depth 0, 0 variables fixed on reduced cost\n",
      "Cuts at root node changed objective from -66100 to -66100\n",
      "Probing was tried 0 times and created 0 cuts of which 0 were active after adding rounds of cuts (0.000 seconds)\n",
      "Gomory was tried 0 times and created 0 cuts of which 0 were active after adding rounds of cuts (0.000 seconds)\n",
      "Knapsack was tried 0 times and created 0 cuts of which 0 were active after adding rounds of cuts (0.000 seconds)\n",
      "Clique was tried 0 times and created 0 cuts of which 0 were active after adding rounds of cuts (0.000 seconds)\n",
      "MixedIntegerRounding2 was tried 0 times and created 0 cuts of which 0 were active after adding rounds of cuts (0.000 seconds)\n",
      "FlowCover was tried 0 times and created 0 cuts of which 0 were active after adding rounds of cuts (0.000 seconds)\n",
      "TwoMirCuts was tried 0 times and created 0 cuts of which 0 were active after adding rounds of cuts (0.000 seconds)\n",
      "ZeroHalf was tried 0 times and created 0 cuts of which 0 were active after adding rounds of cuts (0.000 seconds)\n",
      "\n",
      "Result - Optimal solution found\n",
      "\n",
      "Objective value:                66100.00000000\n",
      "Enumerated nodes:               0\n",
      "Total iterations:               0\n",
      "Time (CPU seconds):             0.00\n",
      "Time (Wallclock seconds):       0.00\n",
      "\n",
      "Option for printingOptions changed from normal to all\n",
      "Total time (CPU seconds):       0.00   (Wallclock seconds):       0.00\n",
      "\n"
     ]
    },
    {
     "data": {
      "text/plain": [
       "1"
      ]
     },
     "execution_count": 19,
     "metadata": {},
     "output_type": "execute_result"
    }
   ],
   "source": [
    "manufacturing_products_lp.solve()"
   ]
  },
  {
   "cell_type": "code",
   "execution_count": 20,
   "id": "df5291ba",
   "metadata": {},
   "outputs": [
    {
     "data": {
      "text/plain": [
       "'Optimal'"
      ]
     },
     "execution_count": 20,
     "metadata": {},
     "output_type": "execute_result"
    }
   ],
   "source": [
    "pulp.LpStatus[manufacturing_products_lp.status]"
   ]
  },
  {
   "cell_type": "code",
   "execution_count": 21,
   "id": "107ca2f0",
   "metadata": {
    "scrolled": false
   },
   "outputs": [
    {
     "name": "stdout",
     "output_type": "stream",
     "text": [
      "the optimized solution: 66100.0\n",
      "P1 122.0\n",
      "P2 78.0\n"
     ]
    }
   ],
   "source": [
    "print(\"the optimized solution:\",pulp.value(manufacturing_products_lp.objective))\n",
    "for variable in manufacturing_products_lp.variables():\n",
    "    print(variable.name,variable.varValue)"
   ]
  },
  {
   "cell_type": "markdown",
   "id": "832f43cc",
   "metadata": {},
   "source": [
    "feild problem"
   ]
  },
  {
   "cell_type": "code",
   "execution_count": 22,
   "id": "32ce75e3",
   "metadata": {},
   "outputs": [],
   "source": [
    "field_products_lp1=pulp.LpProblem(\"Maximize_profit\",pulp.LpMaximize)"
   ]
  },
  {
   "cell_type": "code",
   "execution_count": 23,
   "id": "a2725fbe",
   "metadata": {},
   "outputs": [],
   "source": [
    "P1=pulp.LpVariable(\"P1\",lowBound=1)\n",
    "P2=pulp.LpVariable(\"P2\",lowBound=1)"
   ]
  },
  {
   "cell_type": "code",
   "execution_count": 24,
   "id": "e6165d94",
   "metadata": {},
   "outputs": [],
   "source": [
    "field_products_lp1 += 50*P1+120*P2,'Z'"
   ]
  },
  {
   "cell_type": "code",
   "execution_count": 25,
   "id": "1937fc08",
   "metadata": {},
   "outputs": [
    {
     "data": {
      "text/plain": [
       "Maximize_profit:\n",
       "MAXIMIZE\n",
       "50*P1 + 120*P2 + 0\n",
       "VARIABLES\n",
       "1 <= P1 Continuous\n",
       "1 <= P2 Continuous"
      ]
     },
     "execution_count": 25,
     "metadata": {},
     "output_type": "execute_result"
    }
   ],
   "source": [
    "field_products_lp1"
   ]
  },
  {
   "cell_type": "code",
   "execution_count": 26,
   "id": "46a4d150",
   "metadata": {},
   "outputs": [],
   "source": [
    "field_products_lp1 += 10*P1+30*P2 <=1200,\"constraint1\"\n",
    "field_products_lp1 += 100*P1+200*P2 <=10000,\"constraint2\"\n",
    "field_products_lp1 += P1+P2 <=110,\"constraint3\""
   ]
  },
  {
   "cell_type": "code",
   "execution_count": 28,
   "id": "0074ad7f",
   "metadata": {},
   "outputs": [
    {
     "data": {
      "text/plain": [
       "Maximize_profit:\n",
       "MAXIMIZE\n",
       "50*P1 + 120*P2 + 0\n",
       "SUBJECT TO\n",
       "constraint1: 10 P1 + 30 P2 <= 1200\n",
       "\n",
       "constraint2: 100 P1 + 200 P2 <= 10000\n",
       "\n",
       "constraint3: P1 + P2 <= 110\n",
       "\n",
       "VARIABLES\n",
       "1 <= P1 Continuous\n",
       "1 <= P2 Continuous"
      ]
     },
     "execution_count": 28,
     "metadata": {},
     "output_type": "execute_result"
    }
   ],
   "source": [
    "field_products_lp1"
   ]
  },
  {
   "cell_type": "markdown",
   "id": "8693d10b",
   "metadata": {},
   "source": [
    "1. Consider a chocolate manufacturing company that produces only two types of chocolate – A\n",
    "and B. Both the chocolates require Milk and Choco only. To manufacture each unit of A and\n",
    "B, the following quantities are required:\n",
    "a. Each unit of A requires 1 unit of Milk and 3 units of Choco\n",
    "b. Each unit of B requires 1 unit of Milk and 2 units of Choco\n",
    "c. The company kitchen has a total of 5 units of Milk and 12 units of Choco. On each\n",
    "sale, the company makes a profit of\n",
    "d. Rs 6 per unit A sold\n",
    "e. Rs 5 per unit B sold.\n",
    "Now, the company wishes to maximize its profit. How many units of A and B should it\n",
    "produce respectively?"
   ]
  },
  {
   "cell_type": "code",
   "execution_count": 29,
   "id": "7ae4cd91",
   "metadata": {
    "scrolled": false
   },
   "outputs": [
    {
     "name": "stdout",
     "output_type": "stream",
     "text": [
      "Welcome to the CBC MILP Solver \n",
      "Version: 2.10.3 \n",
      "Build Date: Dec 15 2019 \n",
      "\n",
      "command line - /Users/middhladeekshitha/opt/anaconda3/lib/python3.9/site-packages/pulp/apis/../solverdir/cbc/osx/64/cbc /var/folders/yn/360cvd014rl8mzj87q1ncrtr0000gn/T/5a12ae7be0b841a583fe4b78f7ed9d90-pulp.mps max timeMode elapsed branch printingOptions all solution /var/folders/yn/360cvd014rl8mzj87q1ncrtr0000gn/T/5a12ae7be0b841a583fe4b78f7ed9d90-pulp.sol (default strategy 1)\n",
      "At line 2 NAME          MODEL\n",
      "At line 3 ROWS\n",
      "At line 8 COLUMNS\n",
      "At line 17 RHS\n",
      "At line 21 BOUNDS\n",
      "At line 24 ENDATA\n",
      "Problem MODEL has 3 rows, 2 columns and 6 elements\n",
      "Coin0008I MODEL read with 0 errors\n",
      "Option for timeMode changed from cpu to elapsed\n",
      "Presolve 3 (0) rows, 2 (0) columns and 6 (0) elements\n",
      "0  Obj 170 Dual inf 170 (2)\n",
      "0  Obj 170 Dual inf 170 (2)\n",
      "2  Obj 5400\n",
      "Optimal - objective value 5400\n",
      "Optimal objective 5400 - 2 iterations time 0.002\n",
      "Option for printingOptions changed from normal to all\n",
      "Total time (CPU seconds):       0.00   (Wallclock seconds):       0.00\n",
      "\n"
     ]
    },
    {
     "data": {
      "text/plain": [
       "1"
      ]
     },
     "execution_count": 29,
     "metadata": {},
     "output_type": "execute_result"
    }
   ],
   "source": [
    "field_products_lp1.solve()"
   ]
  },
  {
   "cell_type": "code",
   "execution_count": 32,
   "id": "bef83401",
   "metadata": {},
   "outputs": [
    {
     "data": {
      "text/plain": [
       "'Optimal'"
      ]
     },
     "execution_count": 32,
     "metadata": {},
     "output_type": "execute_result"
    }
   ],
   "source": [
    "pulp.LpStatus[field_products_lp1.status]"
   ]
  },
  {
   "cell_type": "code",
   "execution_count": 33,
   "id": "f2a033bb",
   "metadata": {},
   "outputs": [
    {
     "name": "stdout",
     "output_type": "stream",
     "text": [
      "the optimized solution: 5400.0\n",
      "P1 60.0\n",
      "P2 20.0\n"
     ]
    }
   ],
   "source": [
    "print(\"the optimized solution:\",pulp.value(field_products_lp1.objective))\n",
    "for variable in field_products_lp1.variables():\n",
    "    print(variable.name,variable.varValue)"
   ]
  },
  {
   "cell_type": "markdown",
   "id": "34d2e5c7",
   "metadata": {},
   "source": [
    " 1.instantiate linear programming problem object"
   ]
  },
  {
   "cell_type": "code",
   "execution_count": 34,
   "id": "8a557926",
   "metadata": {},
   "outputs": [],
   "source": [
    "#looking for an optimal maximum so we use LpMaximize(default=LpMinimize)\n",
    "manufacturing_products_lp=pulp.LpProblem(\"Maximize_profit_for_chocolates\",pulp.LpMaximize)"
   ]
  },
  {
   "cell_type": "markdown",
   "id": "8bfe3176",
   "metadata": {},
   "source": [
    "2.create Lpvariables"
   ]
  },
  {
   "cell_type": "code",
   "execution_count": 35,
   "id": "1009bb44",
   "metadata": {},
   "outputs": [],
   "source": [
    "#setting the lower and upper bounds for the decision variables\n",
    "#default lowbound is negative infinity\n",
    "#default upbound is positive infinity\n",
    "#default cat is 'continous'\n",
    "\n",
    "P1=pulp.LpVariable(\"P1\",lowBound=0,cat=\"Integer\")\n",
    "P2=pulp.LpVariable(\"P2\",lowBound=0,cat=\"Integer\")"
   ]
  },
  {
   "cell_type": "markdown",
   "id": "d627575e",
   "metadata": {},
   "source": [
    "3.add objective fun to Lp Problem"
   ]
  },
  {
   "cell_type": "code",
   "execution_count": 36,
   "id": "2289ca99",
   "metadata": {},
   "outputs": [],
   "source": [
    "#objective fun and constraints are added using the += operator to our model.\n",
    "#Z we are assigning to get maximize function.\n",
    "# objective fun.\n",
    "manufacturing_products_lp += 6*P1+5*P2,'Z'"
   ]
  },
  {
   "cell_type": "code",
   "execution_count": 37,
   "id": "ad62d12c",
   "metadata": {},
   "outputs": [
    {
     "data": {
      "text/plain": [
       "Maximize_profit_for_chocolates:\n",
       "MAXIMIZE\n",
       "6*P1 + 5*P2 + 0\n",
       "VARIABLES\n",
       "0 <= P1 Integer\n",
       "0 <= P2 Integer"
      ]
     },
     "execution_count": 37,
     "metadata": {},
     "output_type": "execute_result"
    }
   ],
   "source": [
    "manufacturing_products_lp "
   ]
  },
  {
   "cell_type": "markdown",
   "id": "659dd56c",
   "metadata": {},
   "source": [
    "4. ADD CONSTRAINTS TO LpProblem"
   ]
  },
  {
   "cell_type": "code",
   "execution_count": 38,
   "id": "258f2046",
   "metadata": {},
   "outputs": [],
   "source": [
    "#constraints\n",
    "manufacturing_products_lp += P1+P2 <=5,\"milk constraint\"\n",
    "manufacturing_products_lp += 3*P1+2*P2 <=12,\"choco constraint\"\n"
   ]
  },
  {
   "cell_type": "code",
   "execution_count": 39,
   "id": "30e6e4d4",
   "metadata": {},
   "outputs": [
    {
     "data": {
      "text/plain": [
       "Maximize_profit_for_chocolates:\n",
       "MAXIMIZE\n",
       "6*P1 + 5*P2 + 0\n",
       "SUBJECT TO\n",
       "milk_constraint: P1 + P2 <= 5\n",
       "\n",
       "choco_constraint: 3 P1 + 2 P2 <= 12\n",
       "\n",
       "VARIABLES\n",
       "0 <= P1 Integer\n",
       "0 <= P2 Integer"
      ]
     },
     "execution_count": 39,
     "metadata": {},
     "output_type": "execute_result"
    }
   ],
   "source": [
    "manufacturing_products_lp \n"
   ]
  },
  {
   "cell_type": "markdown",
   "id": "1578d1e6",
   "metadata": {},
   "source": [
    "5.solve"
   ]
  },
  {
   "cell_type": "code",
   "execution_count": 40,
   "id": "4bd88c1e",
   "metadata": {},
   "outputs": [
    {
     "name": "stdout",
     "output_type": "stream",
     "text": [
      "Welcome to the CBC MILP Solver \n",
      "Version: 2.10.3 \n",
      "Build Date: Dec 15 2019 \n",
      "\n",
      "command line - /Users/middhladeekshitha/opt/anaconda3/lib/python3.9/site-packages/pulp/apis/../solverdir/cbc/osx/64/cbc /var/folders/yn/360cvd014rl8mzj87q1ncrtr0000gn/T/9f41aa8d90db4c6d8ef0db025b719ed4-pulp.mps max timeMode elapsed branch printingOptions all solution /var/folders/yn/360cvd014rl8mzj87q1ncrtr0000gn/T/9f41aa8d90db4c6d8ef0db025b719ed4-pulp.sol (default strategy 1)\n",
      "At line 2 NAME          MODEL\n",
      "At line 3 ROWS\n",
      "At line 7 COLUMNS\n",
      "At line 18 RHS\n",
      "At line 21 BOUNDS\n",
      "At line 24 ENDATA\n",
      "Problem MODEL has 2 rows, 2 columns and 4 elements\n",
      "Coin0008I MODEL read with 0 errors\n",
      "Option for timeMode changed from cpu to elapsed\n",
      "Continuous objective value is 27 - 0.00 seconds\n",
      "Cgl0004I processed model has 2 rows, 2 columns (2 integer (0 of which binary)) and 4 elements\n",
      "Cutoff increment increased from 1e-05 to 0.9999\n",
      "Cbc0012I Integer solution of -27 found by DiveCoefficient after 0 iterations and 0 nodes (0.00 seconds)\n",
      "Cbc0001I Search completed - best objective -27, took 0 iterations and 0 nodes (0.00 seconds)\n",
      "Cbc0035I Maximum depth 0, 0 variables fixed on reduced cost\n",
      "Cuts at root node changed objective from -27 to -27\n",
      "Probing was tried 0 times and created 0 cuts of which 0 were active after adding rounds of cuts (0.000 seconds)\n",
      "Gomory was tried 0 times and created 0 cuts of which 0 were active after adding rounds of cuts (0.000 seconds)\n",
      "Knapsack was tried 0 times and created 0 cuts of which 0 were active after adding rounds of cuts (0.000 seconds)\n",
      "Clique was tried 0 times and created 0 cuts of which 0 were active after adding rounds of cuts (0.000 seconds)\n",
      "MixedIntegerRounding2 was tried 0 times and created 0 cuts of which 0 were active after adding rounds of cuts (0.000 seconds)\n",
      "FlowCover was tried 0 times and created 0 cuts of which 0 were active after adding rounds of cuts (0.000 seconds)\n",
      "TwoMirCuts was tried 0 times and created 0 cuts of which 0 were active after adding rounds of cuts (0.000 seconds)\n",
      "ZeroHalf was tried 0 times and created 0 cuts of which 0 were active after adding rounds of cuts (0.000 seconds)\n",
      "\n",
      "Result - Optimal solution found\n",
      "\n",
      "Objective value:                27.00000000\n",
      "Enumerated nodes:               0\n",
      "Total iterations:               0\n",
      "Time (CPU seconds):             0.00\n",
      "Time (Wallclock seconds):       0.00\n",
      "\n",
      "Option for printingOptions changed from normal to all\n",
      "Total time (CPU seconds):       0.00   (Wallclock seconds):       0.01\n",
      "\n"
     ]
    },
    {
     "data": {
      "text/plain": [
       "1"
      ]
     },
     "execution_count": 40,
     "metadata": {},
     "output_type": "execute_result"
    }
   ],
   "source": [
    "manufacturing_products_lp.solve()#1-means solvable,0-not solveable\n"
   ]
  },
  {
   "cell_type": "code",
   "execution_count": 41,
   "id": "4e1e49bb",
   "metadata": {},
   "outputs": [
    {
     "data": {
      "text/plain": [
       "'Optimal'"
      ]
     },
     "execution_count": 41,
     "metadata": {},
     "output_type": "execute_result"
    }
   ],
   "source": [
    "#there are 5 status codes:\"not solved\",\"optimal\",\"infeasiable\",'unbounded','undefined'\n",
    "pulp.LpStatus[manufacturing_products_lp.status]"
   ]
  },
  {
   "cell_type": "code",
   "execution_count": 42,
   "id": "9a161095",
   "metadata": {},
   "outputs": [
    {
     "name": "stdout",
     "output_type": "stream",
     "text": [
      "the optimized solution: 27.0\n",
      "P1 2.0\n",
      "P2 3.0\n"
     ]
    }
   ],
   "source": [
    "print(\"the optimized solution:\",pulp.value(manufacturing_products_lp.objective))\n",
    "for variable in manufacturing_products_lp.variables():\n",
    "    print(variable.name,variable.varValue)\n"
   ]
  },
  {
   "cell_type": "markdown",
   "id": "ab31e302",
   "metadata": {},
   "source": [
    "2.problem"
   ]
  },
  {
   "cell_type": "markdown",
   "id": "b8974d87",
   "metadata": {},
   "source": [
    " A company Produces two types of Goods, A and B, that require Gold and Silver. Each unit of\n",
    "Type A requires 3g of silver and 1g of gold while that of type B requires 1g of silver and 2g of\n",
    "gold. The company can use at most 9g of silver and 8g of gold. If each unit of type A brings a\n",
    "profit of Rs. 40 and that of type B Rs. 50, find the number of units of each type that the\n",
    "company should produce to maximize profit. Formulate the above LPP and solve it\n",
    "graphically and also find the maximum profit."
   ]
  },
  {
   "cell_type": "code",
   "execution_count": 43,
   "id": "73e5efc0",
   "metadata": {},
   "outputs": [],
   "source": [
    "company_products_lp=pulp.LpProblem(\"Maximize_profit_for_goods\",pulp.LpMaximize)"
   ]
  },
  {
   "cell_type": "code",
   "execution_count": 44,
   "id": "add5d300",
   "metadata": {},
   "outputs": [],
   "source": [
    "#2.create Lpvariables\n",
    "P1=pulp.LpVariable(\"P1\",lowBound=1,cat=\"Integer\")\n",
    "P2=pulp.LpVariable(\"P2\",lowBound=1,cat=\"Integer\")"
   ]
  },
  {
   "cell_type": "code",
   "execution_count": 45,
   "id": "1856c2f8",
   "metadata": {},
   "outputs": [],
   "source": [
    "company_products_lp += 40*P1+50*P2,'Z'"
   ]
  },
  {
   "cell_type": "code",
   "execution_count": 46,
   "id": "82caef4e",
   "metadata": {},
   "outputs": [
    {
     "data": {
      "text/plain": [
       "Maximize_profit_for_goods:\n",
       "MAXIMIZE\n",
       "40*P1 + 50*P2 + 0\n",
       "VARIABLES\n",
       "1 <= P1 Integer\n",
       "1 <= P2 Integer"
      ]
     },
     "execution_count": 46,
     "metadata": {},
     "output_type": "execute_result"
    }
   ],
   "source": [
    "company_products_lp"
   ]
  },
  {
   "cell_type": "code",
   "execution_count": 47,
   "id": "05923267",
   "metadata": {},
   "outputs": [],
   "source": [
    "#4.ADD CONSTRAINTS TO LpProblem\n",
    "company_products_lp += 3*P1+P2 <=9,\"silver constraint\"\n",
    "company_products_lp += P1+2*P2 <=8,\"gold constraint\"\n"
   ]
  },
  {
   "cell_type": "code",
   "execution_count": 48,
   "id": "81555862",
   "metadata": {},
   "outputs": [
    {
     "data": {
      "text/plain": [
       "Maximize_profit_for_goods:\n",
       "MAXIMIZE\n",
       "40*P1 + 50*P2 + 0\n",
       "SUBJECT TO\n",
       "silver_constraint: 3 P1 + P2 <= 9\n",
       "\n",
       "gold_constraint: P1 + 2 P2 <= 8\n",
       "\n",
       "VARIABLES\n",
       "1 <= P1 Integer\n",
       "1 <= P2 Integer"
      ]
     },
     "execution_count": 48,
     "metadata": {},
     "output_type": "execute_result"
    }
   ],
   "source": [
    "company_products_lp "
   ]
  },
  {
   "cell_type": "code",
   "execution_count": 49,
   "id": "573fa731",
   "metadata": {},
   "outputs": [
    {
     "name": "stdout",
     "output_type": "stream",
     "text": [
      "Welcome to the CBC MILP Solver \n",
      "Version: 2.10.3 \n",
      "Build Date: Dec 15 2019 \n",
      "\n",
      "command line - /Users/middhladeekshitha/opt/anaconda3/lib/python3.9/site-packages/pulp/apis/../solverdir/cbc/osx/64/cbc /var/folders/yn/360cvd014rl8mzj87q1ncrtr0000gn/T/9361cb8b39df48abbd546d7c4c2a4a3a-pulp.mps max timeMode elapsed branch printingOptions all solution /var/folders/yn/360cvd014rl8mzj87q1ncrtr0000gn/T/9361cb8b39df48abbd546d7c4c2a4a3a-pulp.sol (default strategy 1)\n",
      "At line 2 NAME          MODEL\n",
      "At line 3 ROWS\n",
      "At line 7 COLUMNS\n",
      "At line 18 RHS\n",
      "At line 21 BOUNDS\n",
      "At line 24 ENDATA\n",
      "Problem MODEL has 2 rows, 2 columns and 4 elements\n",
      "Coin0008I MODEL read with 0 errors\n",
      "Option for timeMode changed from cpu to elapsed\n",
      "Continuous objective value is 230 - 0.00 seconds\n",
      "Cgl0004I processed model has 0 rows, 0 columns (0 integer (0 of which binary)) and 0 elements\n",
      "Cbc3007W No integer variables - nothing to do\n",
      "Cuts at root node changed objective from -230 to -1.79769e+308\n",
      "Probing was tried 0 times and created 0 cuts of which 0 were active after adding rounds of cuts (0.000 seconds)\n",
      "Gomory was tried 0 times and created 0 cuts of which 0 were active after adding rounds of cuts (0.000 seconds)\n",
      "Knapsack was tried 0 times and created 0 cuts of which 0 were active after adding rounds of cuts (0.000 seconds)\n",
      "Clique was tried 0 times and created 0 cuts of which 0 were active after adding rounds of cuts (0.000 seconds)\n",
      "MixedIntegerRounding2 was tried 0 times and created 0 cuts of which 0 were active after adding rounds of cuts (0.000 seconds)\n",
      "FlowCover was tried 0 times and created 0 cuts of which 0 were active after adding rounds of cuts (0.000 seconds)\n",
      "TwoMirCuts was tried 0 times and created 0 cuts of which 0 were active after adding rounds of cuts (0.000 seconds)\n",
      "ZeroHalf was tried 0 times and created 0 cuts of which 0 were active after adding rounds of cuts (0.000 seconds)\n",
      "\n",
      "Result - Optimal solution found\n",
      "\n",
      "Objective value:                230.00000000\n",
      "Enumerated nodes:               0\n",
      "Total iterations:               0\n",
      "Time (CPU seconds):             0.00\n",
      "Time (Wallclock seconds):       0.00\n",
      "\n",
      "Option for printingOptions changed from normal to all\n",
      "Total time (CPU seconds):       0.00   (Wallclock seconds):       0.00\n",
      "\n"
     ]
    },
    {
     "data": {
      "text/plain": [
       "1"
      ]
     },
     "execution_count": 49,
     "metadata": {},
     "output_type": "execute_result"
    }
   ],
   "source": [
    "company_products_lp.solve()"
   ]
  },
  {
   "cell_type": "code",
   "execution_count": 50,
   "id": "f9406ea0",
   "metadata": {},
   "outputs": [
    {
     "data": {
      "text/plain": [
       "'Optimal'"
      ]
     },
     "execution_count": 50,
     "metadata": {},
     "output_type": "execute_result"
    }
   ],
   "source": [
    "pulp.LpStatus[company_products_lp.status]"
   ]
  },
  {
   "cell_type": "code",
   "execution_count": 51,
   "id": "c79b2a64",
   "metadata": {},
   "outputs": [
    {
     "name": "stdout",
     "output_type": "stream",
     "text": [
      "the optimized solution: 230.0\n",
      "P1 2.0\n",
      "P2 3.0\n"
     ]
    }
   ],
   "source": [
    "print(\"the optimized solution:\",pulp.value(company_products_lp.objective))\n",
    "for variable in company_products_lp.variables():\n",
    "    print(variable.name,variable.varValue)"
   ]
  },
  {
   "cell_type": "markdown",
   "id": "e42e6f7b",
   "metadata": {},
   "source": [
    "3.problem"
   ]
  },
  {
   "cell_type": "markdown",
   "id": "dbbf619b",
   "metadata": {},
   "source": [
    "3. A dietician wishes to mix two types of food in such a way that the vitamin contents of the\n",
    "mixture contain at least 8 units of vitamin A and 10 units of vitamin C.\n",
    "a. Food I contains 2 units/kg of vitamin A and 1 unit/kg of vitamin C. It costs Rs. 50 per\n",
    "kg to produce food I.\n",
    "b. Food II Contains 1 unit/kg of vitamin A and 2 units/kg of vitamin C and it costs Rs 70\n",
    "per kg to produce food II.\n",
    "Formulate this problem as a LPP to minimize the cost of a mixture that will produce the\n",
    "required diet. Also find the minimum cost."
   ]
  },
  {
   "cell_type": "code",
   "execution_count": 52,
   "id": "014d04cb",
   "metadata": {},
   "outputs": [],
   "source": [
    "food_products_lp=pulp.LpProblem(\"Minizise_cost_for_food\",pulp.LpMinimize)"
   ]
  },
  {
   "cell_type": "code",
   "execution_count": 53,
   "id": "5c9108d8",
   "metadata": {},
   "outputs": [],
   "source": [
    "P1=pulp.LpVariable(\"P1\",lowBound=1,cat=\"Integer\")\n",
    "P2=pulp.LpVariable(\"P2\",lowBound=1,cat=\"Integer\")"
   ]
  },
  {
   "cell_type": "code",
   "execution_count": 54,
   "id": "a0bc0f37",
   "metadata": {},
   "outputs": [],
   "source": [
    "food_products_lp += 50*P1+70*P2,'Z'"
   ]
  },
  {
   "cell_type": "code",
   "execution_count": 55,
   "id": "fb6bc756",
   "metadata": {
    "scrolled": true
   },
   "outputs": [
    {
     "data": {
      "text/plain": [
       "Minizise_cost_for_food:\n",
       "MINIMIZE\n",
       "50*P1 + 70*P2 + 0\n",
       "VARIABLES\n",
       "1 <= P1 Integer\n",
       "1 <= P2 Integer"
      ]
     },
     "execution_count": 55,
     "metadata": {},
     "output_type": "execute_result"
    }
   ],
   "source": [
    "food_products_lp"
   ]
  },
  {
   "cell_type": "code",
   "execution_count": 56,
   "id": "0a12e7b1",
   "metadata": {},
   "outputs": [],
   "source": [
    "#4.ADD CONSTRAINTS TO LpProblem\n",
    "food_products_lp += 2*P1+P2 <=12,\"1-constraint\"\n",
    "food_products_lp += P1+2*P2 <=9,\"2-constraint\""
   ]
  },
  {
   "cell_type": "code",
   "execution_count": 57,
   "id": "87f1a3fd",
   "metadata": {},
   "outputs": [
    {
     "name": "stdout",
     "output_type": "stream",
     "text": [
      "Welcome to the CBC MILP Solver \n",
      "Version: 2.10.3 \n",
      "Build Date: Dec 15 2019 \n",
      "\n",
      "command line - /Users/middhladeekshitha/opt/anaconda3/lib/python3.9/site-packages/pulp/apis/../solverdir/cbc/osx/64/cbc /var/folders/yn/360cvd014rl8mzj87q1ncrtr0000gn/T/0fd29577aef64c789e6d3313bb2f58b5-pulp.mps timeMode elapsed branch printingOptions all solution /var/folders/yn/360cvd014rl8mzj87q1ncrtr0000gn/T/0fd29577aef64c789e6d3313bb2f58b5-pulp.sol (default strategy 1)\n",
      "At line 2 NAME          MODEL\n",
      "At line 3 ROWS\n",
      "At line 7 COLUMNS\n",
      "At line 18 RHS\n",
      "At line 21 BOUNDS\n",
      "At line 24 ENDATA\n",
      "Problem MODEL has 2 rows, 2 columns and 4 elements\n",
      "Coin0008I MODEL read with 0 errors\n",
      "Option for timeMode changed from cpu to elapsed\n",
      "Continuous objective value is 120 - 0.00 seconds\n",
      "Cgl0004I processed model has 0 rows, 0 columns (0 integer (0 of which binary)) and 0 elements\n",
      "Cbc3007W No integer variables - nothing to do\n",
      "Cuts at root node changed objective from 120 to -1.79769e+308\n",
      "Probing was tried 0 times and created 0 cuts of which 0 were active after adding rounds of cuts (0.000 seconds)\n",
      "Gomory was tried 0 times and created 0 cuts of which 0 were active after adding rounds of cuts (0.000 seconds)\n",
      "Knapsack was tried 0 times and created 0 cuts of which 0 were active after adding rounds of cuts (0.000 seconds)\n",
      "Clique was tried 0 times and created 0 cuts of which 0 were active after adding rounds of cuts (0.000 seconds)\n",
      "MixedIntegerRounding2 was tried 0 times and created 0 cuts of which 0 were active after adding rounds of cuts (0.000 seconds)\n",
      "FlowCover was tried 0 times and created 0 cuts of which 0 were active after adding rounds of cuts (0.000 seconds)\n",
      "TwoMirCuts was tried 0 times and created 0 cuts of which 0 were active after adding rounds of cuts (0.000 seconds)\n",
      "ZeroHalf was tried 0 times and created 0 cuts of which 0 were active after adding rounds of cuts (0.000 seconds)\n",
      "\n",
      "Result - Optimal solution found\n",
      "\n",
      "Objective value:                120.00000000\n",
      "Enumerated nodes:               0\n",
      "Total iterations:               0\n",
      "Time (CPU seconds):             0.00\n",
      "Time (Wallclock seconds):       0.00\n",
      "\n",
      "Option for printingOptions changed from normal to all\n",
      "Total time (CPU seconds):       0.00   (Wallclock seconds):       0.01\n",
      "\n"
     ]
    },
    {
     "data": {
      "text/plain": [
       "1"
      ]
     },
     "execution_count": 57,
     "metadata": {},
     "output_type": "execute_result"
    }
   ],
   "source": [
    "food_products_lp.solve()"
   ]
  },
  {
   "cell_type": "code",
   "execution_count": 58,
   "id": "77774918",
   "metadata": {},
   "outputs": [
    {
     "data": {
      "text/plain": [
       "'Optimal'"
      ]
     },
     "execution_count": 58,
     "metadata": {},
     "output_type": "execute_result"
    }
   ],
   "source": [
    "pulp.LpStatus[food_products_lp.status]"
   ]
  },
  {
   "cell_type": "code",
   "execution_count": 59,
   "id": "5126842d",
   "metadata": {},
   "outputs": [
    {
     "name": "stdout",
     "output_type": "stream",
     "text": [
      "the optimized solution: 120.0\n",
      "P1 1.0\n",
      "P2 1.0\n"
     ]
    }
   ],
   "source": [
    "print(\"the optimized solution:\",pulp.value(food_products_lp.objective))\n",
    "for variable in food_products_lp.variables():\n",
    "    print(variable.name,variable.varValue)"
   ]
  },
  {
   "cell_type": "markdown",
   "id": "f37e69b9",
   "metadata": {},
   "source": [
    "4.problem"
   ]
  },
  {
   "cell_type": "markdown",
   "id": "98487908",
   "metadata": {},
   "source": [
    " A manufacturer Produces two products A and B. Both the products are processed on two\n",
    "different Machines. The available capacity of first machine is 12 hours and that of second\n",
    "machine is 9 hours per day.\n",
    "a. Each unit of product A requires 3 hours on both machines and each unit of product B\n",
    "requires 2 hours on first machine and 1 hour on second machine.\n",
    "b. Each unit of product A is sold at Rs 7 Profit and that of B at a Profit of Rs 4 .\n",
    "Find the production level per day for maximum profit."
   ]
  },
  {
   "cell_type": "code",
   "execution_count": 60,
   "id": "4f419241",
   "metadata": {},
   "outputs": [],
   "source": [
    "manufacture_products_lp=pulp.LpProblem(\"Maximize_profit_for_products\",pulp.LpMaximize)"
   ]
  },
  {
   "cell_type": "code",
   "execution_count": 61,
   "id": "4c95af72",
   "metadata": {},
   "outputs": [],
   "source": [
    "P1=pulp.LpVariable(\"P1\",lowBound=1,cat=\"Integer\")\n",
    "P2=pulp.LpVariable(\"P2\",lowBound=1,cat=\"Integer\")"
   ]
  },
  {
   "cell_type": "code",
   "execution_count": 62,
   "id": "74988a59",
   "metadata": {},
   "outputs": [],
   "source": [
    "manufacture_products_lp += 7*P1+4*P2,'Z'"
   ]
  },
  {
   "cell_type": "code",
   "execution_count": 63,
   "id": "b6132a06",
   "metadata": {},
   "outputs": [
    {
     "data": {
      "text/plain": [
       "Maximize_profit_for_products:\n",
       "MAXIMIZE\n",
       "7*P1 + 4*P2 + 0\n",
       "VARIABLES\n",
       "1 <= P1 Integer\n",
       "1 <= P2 Integer"
      ]
     },
     "execution_count": 63,
     "metadata": {},
     "output_type": "execute_result"
    }
   ],
   "source": [
    "manufacture_products_lp "
   ]
  },
  {
   "cell_type": "code",
   "execution_count": 64,
   "id": "69381a0c",
   "metadata": {},
   "outputs": [],
   "source": [
    "#4.ADD CONSTRAINTS TO LpProblem\n",
    "manufacture_products_lp += 3*P1+2*P2 <=12,\"machine1 constraint\"\n",
    "manufacture_products_lp += 3*P1+P2 <=9,\"machine2 constraint\""
   ]
  },
  {
   "cell_type": "code",
   "execution_count": 65,
   "id": "a4035e22",
   "metadata": {},
   "outputs": [
    {
     "data": {
      "text/plain": [
       "Maximize_profit_for_products:\n",
       "MAXIMIZE\n",
       "7*P1 + 4*P2 + 0\n",
       "SUBJECT TO\n",
       "machine1_constraint: 3 P1 + 2 P2 <= 12\n",
       "\n",
       "machine2_constraint: 3 P1 + P2 <= 9\n",
       "\n",
       "VARIABLES\n",
       "1 <= P1 Integer\n",
       "1 <= P2 Integer"
      ]
     },
     "execution_count": 65,
     "metadata": {},
     "output_type": "execute_result"
    }
   ],
   "source": [
    "manufacture_products_lp "
   ]
  },
  {
   "cell_type": "code",
   "execution_count": 66,
   "id": "cfcebfd7",
   "metadata": {},
   "outputs": [
    {
     "name": "stdout",
     "output_type": "stream",
     "text": [
      "Welcome to the CBC MILP Solver \n",
      "Version: 2.10.3 \n",
      "Build Date: Dec 15 2019 \n",
      "\n",
      "command line - /Users/middhladeekshitha/opt/anaconda3/lib/python3.9/site-packages/pulp/apis/../solverdir/cbc/osx/64/cbc /var/folders/yn/360cvd014rl8mzj87q1ncrtr0000gn/T/9cefcebc85554b88a0fde728bed277a3-pulp.mps max timeMode elapsed branch printingOptions all solution /var/folders/yn/360cvd014rl8mzj87q1ncrtr0000gn/T/9cefcebc85554b88a0fde728bed277a3-pulp.sol (default strategy 1)\n",
      "At line 2 NAME          MODEL\n",
      "At line 3 ROWS\n",
      "At line 7 COLUMNS\n",
      "At line 18 RHS\n",
      "At line 21 BOUNDS\n",
      "At line 24 ENDATA\n",
      "Problem MODEL has 2 rows, 2 columns and 4 elements\n",
      "Coin0008I MODEL read with 0 errors\n",
      "Option for timeMode changed from cpu to elapsed\n",
      "Continuous objective value is 26 - 0.00 seconds\n",
      "Cgl0004I processed model has 2 rows, 2 columns (2 integer (0 of which binary)) and 4 elements\n",
      "Cutoff increment increased from 1e-05 to 0.9999\n",
      "Cbc0038I Initial state - 0 integers unsatisfied sum - 0\n",
      "Cbc0038I Solution found of -26\n",
      "Cbc0038I Cleaned solution of -26\n",
      "Cbc0038I Before mini branch and bound, 2 integers at bound fixed and 0 continuous of which 1 were internal integer and 0 internal continuous\n",
      "Cbc0038I Mini branch and bound did not improve solution (0.00 seconds)\n",
      "Cbc0038I After 0.00 seconds - Feasibility pump exiting with objective of -26 - took 0.00 seconds\n",
      "Cbc0012I Integer solution of -26 found by feasibility pump after 0 iterations and 0 nodes (0.00 seconds)\n",
      "Cbc0001I Search completed - best objective -26, took 0 iterations and 0 nodes (0.00 seconds)\n",
      "Cbc0035I Maximum depth 0, 0 variables fixed on reduced cost\n",
      "Cuts at root node changed objective from -26 to -26\n",
      "Probing was tried 0 times and created 0 cuts of which 0 were active after adding rounds of cuts (0.000 seconds)\n",
      "Gomory was tried 0 times and created 0 cuts of which 0 were active after adding rounds of cuts (0.000 seconds)\n",
      "Knapsack was tried 0 times and created 0 cuts of which 0 were active after adding rounds of cuts (0.000 seconds)\n",
      "Clique was tried 0 times and created 0 cuts of which 0 were active after adding rounds of cuts (0.000 seconds)\n",
      "MixedIntegerRounding2 was tried 0 times and created 0 cuts of which 0 were active after adding rounds of cuts (0.000 seconds)\n",
      "FlowCover was tried 0 times and created 0 cuts of which 0 were active after adding rounds of cuts (0.000 seconds)\n",
      "TwoMirCuts was tried 0 times and created 0 cuts of which 0 were active after adding rounds of cuts (0.000 seconds)\n",
      "ZeroHalf was tried 0 times and created 0 cuts of which 0 were active after adding rounds of cuts (0.000 seconds)\n",
      "\n",
      "Result - Optimal solution found\n",
      "\n",
      "Objective value:                26.00000000\n",
      "Enumerated nodes:               0\n",
      "Total iterations:               0\n",
      "Time (CPU seconds):             0.00\n",
      "Time (Wallclock seconds):       0.00\n",
      "\n",
      "Option for printingOptions changed from normal to all\n",
      "Total time (CPU seconds):       0.00   (Wallclock seconds):       0.01\n",
      "\n"
     ]
    },
    {
     "data": {
      "text/plain": [
       "1"
      ]
     },
     "execution_count": 66,
     "metadata": {},
     "output_type": "execute_result"
    }
   ],
   "source": [
    "manufacture_products_lp.solve()"
   ]
  },
  {
   "cell_type": "code",
   "execution_count": 67,
   "id": "4d50c46d",
   "metadata": {},
   "outputs": [
    {
     "data": {
      "text/plain": [
       "'Optimal'"
      ]
     },
     "execution_count": 67,
     "metadata": {},
     "output_type": "execute_result"
    }
   ],
   "source": [
    "pulp.LpStatus[manufacture_products_lp.status]"
   ]
  },
  {
   "cell_type": "code",
   "execution_count": 68,
   "id": "0196f4e2",
   "metadata": {},
   "outputs": [
    {
     "name": "stdout",
     "output_type": "stream",
     "text": [
      "the optimized solution: 26.0\n",
      "P1 2.0\n",
      "P2 3.0\n"
     ]
    }
   ],
   "source": [
    "print(\"the optimized solution:\",pulp.value(manufacture_products_lp.objective))\n",
    "for variable in manufacture_products_lp.variables():\n",
    "    print(variable.name,variable.varValue)"
   ]
  },
  {
   "cell_type": "markdown",
   "id": "a64e0164",
   "metadata": {},
   "source": [
    "5.problem"
   ]
  },
  {
   "cell_type": "markdown",
   "id": "d6fa7544",
   "metadata": {},
   "source": [
    " Two tailors A and B earn Rs. 150 and Rs.200 per day respectively. A can stitch 6 Shirts and 4\n",
    "pants per day, while B can stitch 10 shirts and 4 pants per day. Form a LPP to minimize the\n",
    "labour cost to produce (stitch) at least 60 shirts and 32 pants and solve it"
   ]
  },
  {
   "cell_type": "code",
   "execution_count": 69,
   "id": "58faa6e7",
   "metadata": {},
   "outputs": [],
   "source": [
    "tailor_products_lp=pulp.LpProblem(\"Minizise_cost_for_labour\",pulp.LpMinimize)"
   ]
  },
  {
   "cell_type": "code",
   "execution_count": 70,
   "id": "272c257c",
   "metadata": {},
   "outputs": [],
   "source": [
    "P1=pulp.LpVariable(\"P1\",lowBound=1,cat=\"Integer\")\n",
    "P2=pulp.LpVariable(\"P2\",lowBound=1,cat=\"Integer\")"
   ]
  },
  {
   "cell_type": "code",
   "execution_count": 71,
   "id": "f4813a60",
   "metadata": {},
   "outputs": [],
   "source": [
    "tailor_products_lp += 150*P1+200*P2,'Z'"
   ]
  },
  {
   "cell_type": "code",
   "execution_count": 72,
   "id": "01b582ad",
   "metadata": {},
   "outputs": [
    {
     "data": {
      "text/plain": [
       "Minizise_cost_for_labour:\n",
       "MINIMIZE\n",
       "150*P1 + 200*P2 + 0\n",
       "VARIABLES\n",
       "1 <= P1 Integer\n",
       "1 <= P2 Integer"
      ]
     },
     "execution_count": 72,
     "metadata": {},
     "output_type": "execute_result"
    }
   ],
   "source": [
    "tailor_products_lp "
   ]
  },
  {
   "cell_type": "code",
   "execution_count": 73,
   "id": "7594c57d",
   "metadata": {},
   "outputs": [],
   "source": [
    "#4.ADD CONSTRAINTS TO LpProblem\n",
    "tailor_products_lp += 6*P1+10*P2 >=60,\"a-constraint\"\n",
    "tailor_products_lp += 4*P1+4*P2 >=32,\"b-constraint\""
   ]
  },
  {
   "cell_type": "code",
   "execution_count": 74,
   "id": "e9ccf740",
   "metadata": {},
   "outputs": [
    {
     "data": {
      "text/plain": [
       "Minizise_cost_for_labour:\n",
       "MINIMIZE\n",
       "150*P1 + 200*P2 + 0\n",
       "SUBJECT TO\n",
       "a_constraint: 6 P1 + 10 P2 >= 60\n",
       "\n",
       "b_constraint: 4 P1 + 4 P2 >= 32\n",
       "\n",
       "VARIABLES\n",
       "1 <= P1 Integer\n",
       "1 <= P2 Integer"
      ]
     },
     "execution_count": 74,
     "metadata": {},
     "output_type": "execute_result"
    }
   ],
   "source": [
    "tailor_products_lp "
   ]
  },
  {
   "cell_type": "code",
   "execution_count": 75,
   "id": "9d7db004",
   "metadata": {},
   "outputs": [
    {
     "name": "stdout",
     "output_type": "stream",
     "text": [
      "Welcome to the CBC MILP Solver \n",
      "Version: 2.10.3 \n",
      "Build Date: Dec 15 2019 \n",
      "\n",
      "command line - /Users/middhladeekshitha/opt/anaconda3/lib/python3.9/site-packages/pulp/apis/../solverdir/cbc/osx/64/cbc /var/folders/yn/360cvd014rl8mzj87q1ncrtr0000gn/T/47d21d5ec22c46cfac03d59010d8457e-pulp.mps timeMode elapsed branch printingOptions all solution /var/folders/yn/360cvd014rl8mzj87q1ncrtr0000gn/T/47d21d5ec22c46cfac03d59010d8457e-pulp.sol (default strategy 1)\n",
      "At line 2 NAME          MODEL\n",
      "At line 3 ROWS\n",
      "At line 7 COLUMNS\n",
      "At line 18 RHS\n",
      "At line 21 BOUNDS\n",
      "At line 24 ENDATA\n",
      "Problem MODEL has 2 rows, 2 columns and 4 elements\n",
      "Coin0008I MODEL read with 0 errors\n",
      "Option for timeMode changed from cpu to elapsed\n",
      "Continuous objective value is 1350 - 0.00 seconds\n",
      "Cgl0003I 0 fixed, 2 tightened bounds, 0 strengthened rows, 0 substitutions\n",
      "Cgl0004I processed model has 2 rows, 2 columns (2 integer (0 of which binary)) and 4 elements\n",
      "Cutoff increment increased from 1e-05 to 49.9999\n",
      "Cbc0012I Integer solution of 1350 found by greedy cover after 0 iterations and 0 nodes (0.00 seconds)\n",
      "Cbc0001I Search completed - best objective 1350, took 0 iterations and 0 nodes (0.00 seconds)\n",
      "Cbc0035I Maximum depth 0, 0 variables fixed on reduced cost\n",
      "Cuts at root node changed objective from 1350 to 1350\n",
      "Probing was tried 0 times and created 0 cuts of which 0 were active after adding rounds of cuts (0.000 seconds)\n",
      "Gomory was tried 0 times and created 0 cuts of which 0 were active after adding rounds of cuts (0.000 seconds)\n",
      "Knapsack was tried 0 times and created 0 cuts of which 0 were active after adding rounds of cuts (0.000 seconds)\n",
      "Clique was tried 0 times and created 0 cuts of which 0 were active after adding rounds of cuts (0.000 seconds)\n",
      "MixedIntegerRounding2 was tried 0 times and created 0 cuts of which 0 were active after adding rounds of cuts (0.000 seconds)\n",
      "FlowCover was tried 0 times and created 0 cuts of which 0 were active after adding rounds of cuts (0.000 seconds)\n",
      "TwoMirCuts was tried 0 times and created 0 cuts of which 0 were active after adding rounds of cuts (0.000 seconds)\n",
      "ZeroHalf was tried 0 times and created 0 cuts of which 0 were active after adding rounds of cuts (0.000 seconds)\n",
      "\n",
      "Result - Optimal solution found\n",
      "\n",
      "Objective value:                1350.00000000\n",
      "Enumerated nodes:               0\n",
      "Total iterations:               0\n",
      "Time (CPU seconds):             0.00\n",
      "Time (Wallclock seconds):       0.00\n",
      "\n",
      "Option for printingOptions changed from normal to all\n",
      "Total time (CPU seconds):       0.00   (Wallclock seconds):       0.00\n",
      "\n"
     ]
    },
    {
     "data": {
      "text/plain": [
       "1"
      ]
     },
     "execution_count": 75,
     "metadata": {},
     "output_type": "execute_result"
    }
   ],
   "source": [
    "tailor_products_lp.solve()"
   ]
  },
  {
   "cell_type": "code",
   "execution_count": 76,
   "id": "39ee8924",
   "metadata": {},
   "outputs": [
    {
     "data": {
      "text/plain": [
       "'Optimal'"
      ]
     },
     "execution_count": 76,
     "metadata": {},
     "output_type": "execute_result"
    }
   ],
   "source": [
    "pulp.LpStatus[tailor_products_lp.status]"
   ]
  },
  {
   "cell_type": "code",
   "execution_count": 77,
   "id": "3b08b2fa",
   "metadata": {},
   "outputs": [
    {
     "name": "stdout",
     "output_type": "stream",
     "text": [
      "the optimized solution: 1350.0\n",
      "P1 5.0\n",
      "P2 3.0\n"
     ]
    }
   ],
   "source": [
    "print(\"the optimized solution:\",pulp.value(tailor_products_lp.objective))\n",
    "for variable in tailor_products_lp.variables():\n",
    "    print(variable.name,variable.varValue)"
   ]
  },
  {
   "cell_type": "markdown",
   "id": "ab8034f3",
   "metadata": {},
   "source": [
    "6.problem"
   ]
  },
  {
   "cell_type": "markdown",
   "id": "83004d8f",
   "metadata": {},
   "source": [
    "Consider a small manufacturer making two products P1 and P2. Two resources R1 and R2\n",
    "are required to make these products. Each unit of product P1 requires 1 unit of R1 and 3\n",
    "units of R2. Each unit of product P2 requires 1 unit of R1 and 2 units of R2. The manufacturer\n",
    "has 5 units of R1 and 12 of R2 available The manufacturer also makes a profit of Rs 6 per unit\n",
    "of product P1 sold and Rs 5 per unit of product P2 sold"
   ]
  },
  {
   "cell_type": "code",
   "execution_count": 78,
   "id": "d390e73a",
   "metadata": {},
   "outputs": [],
   "source": [
    "manufacture_products_lp=pulp.LpProblem(\"Maximize_profit_for_products\",pulp.LpMaximize)"
   ]
  },
  {
   "cell_type": "code",
   "execution_count": 79,
   "id": "b3d59295",
   "metadata": {},
   "outputs": [],
   "source": [
    "P1=pulp.LpVariable(\"P1\",lowBound=1,cat=\"Integer\")\n",
    "P2=pulp.LpVariable(\"P2\",lowBound=1,cat=\"Integer\")"
   ]
  },
  {
   "cell_type": "code",
   "execution_count": 80,
   "id": "acb9e037",
   "metadata": {},
   "outputs": [],
   "source": [
    "manufacture_products_lp += 6*P1+5*P2,'Z'"
   ]
  },
  {
   "cell_type": "code",
   "execution_count": 81,
   "id": "6ba86c81",
   "metadata": {},
   "outputs": [
    {
     "data": {
      "text/plain": [
       "Maximize_profit_for_products:\n",
       "MAXIMIZE\n",
       "6*P1 + 5*P2 + 0\n",
       "VARIABLES\n",
       "1 <= P1 Integer\n",
       "1 <= P2 Integer"
      ]
     },
     "execution_count": 81,
     "metadata": {},
     "output_type": "execute_result"
    }
   ],
   "source": [
    "manufacture_products_lp "
   ]
  },
  {
   "cell_type": "code",
   "execution_count": 82,
   "id": "7a9960f1",
   "metadata": {},
   "outputs": [],
   "source": [
    "#4.ADD CONSTRAINTS TO LpProblem\n",
    "manufacture_products_lp += P1+P2 <=5,\"a-constraint\"\n",
    "manufacture_products_lp += 3*P1+2*P2 <=12,\"b-constraint\""
   ]
  },
  {
   "cell_type": "code",
   "execution_count": 83,
   "id": "5de75fc8",
   "metadata": {},
   "outputs": [
    {
     "data": {
      "text/plain": [
       "Maximize_profit_for_products:\n",
       "MAXIMIZE\n",
       "6*P1 + 5*P2 + 0\n",
       "SUBJECT TO\n",
       "a_constraint: P1 + P2 <= 5\n",
       "\n",
       "b_constraint: 3 P1 + 2 P2 <= 12\n",
       "\n",
       "VARIABLES\n",
       "1 <= P1 Integer\n",
       "1 <= P2 Integer"
      ]
     },
     "execution_count": 83,
     "metadata": {},
     "output_type": "execute_result"
    }
   ],
   "source": [
    "manufacture_products_lp "
   ]
  },
  {
   "cell_type": "code",
   "execution_count": 84,
   "id": "243748a8",
   "metadata": {},
   "outputs": [
    {
     "name": "stdout",
     "output_type": "stream",
     "text": [
      "Welcome to the CBC MILP Solver \n",
      "Version: 2.10.3 \n",
      "Build Date: Dec 15 2019 \n",
      "\n",
      "command line - /Users/middhladeekshitha/opt/anaconda3/lib/python3.9/site-packages/pulp/apis/../solverdir/cbc/osx/64/cbc /var/folders/yn/360cvd014rl8mzj87q1ncrtr0000gn/T/51440caf7a35474aaeeac680f5971ecd-pulp.mps max timeMode elapsed branch printingOptions all solution /var/folders/yn/360cvd014rl8mzj87q1ncrtr0000gn/T/51440caf7a35474aaeeac680f5971ecd-pulp.sol (default strategy 1)\n",
      "At line 2 NAME          MODEL\n",
      "At line 3 ROWS\n",
      "At line 7 COLUMNS\n",
      "At line 18 RHS\n",
      "At line 21 BOUNDS\n",
      "At line 24 ENDATA\n",
      "Problem MODEL has 2 rows, 2 columns and 4 elements\n",
      "Coin0008I MODEL read with 0 errors\n",
      "Option for timeMode changed from cpu to elapsed\n",
      "Continuous objective value is 27 - 0.00 seconds\n",
      "Cgl0004I processed model has 2 rows, 2 columns (2 integer (0 of which binary)) and 4 elements\n",
      "Cutoff increment increased from 1e-05 to 0.9999\n",
      "Cbc0012I Integer solution of -27 found by DiveCoefficient after 0 iterations and 0 nodes (0.00 seconds)\n",
      "Cbc0001I Search completed - best objective -27, took 0 iterations and 0 nodes (0.00 seconds)\n",
      "Cbc0035I Maximum depth 0, 0 variables fixed on reduced cost\n",
      "Cuts at root node changed objective from -27 to -27\n",
      "Probing was tried 0 times and created 0 cuts of which 0 were active after adding rounds of cuts (0.000 seconds)\n",
      "Gomory was tried 0 times and created 0 cuts of which 0 were active after adding rounds of cuts (0.000 seconds)\n",
      "Knapsack was tried 0 times and created 0 cuts of which 0 were active after adding rounds of cuts (0.000 seconds)\n",
      "Clique was tried 0 times and created 0 cuts of which 0 were active after adding rounds of cuts (0.000 seconds)\n",
      "MixedIntegerRounding2 was tried 0 times and created 0 cuts of which 0 were active after adding rounds of cuts (0.000 seconds)\n",
      "FlowCover was tried 0 times and created 0 cuts of which 0 were active after adding rounds of cuts (0.000 seconds)\n",
      "TwoMirCuts was tried 0 times and created 0 cuts of which 0 were active after adding rounds of cuts (0.000 seconds)\n",
      "ZeroHalf was tried 0 times and created 0 cuts of which 0 were active after adding rounds of cuts (0.000 seconds)\n",
      "\n",
      "Result - Optimal solution found\n",
      "\n",
      "Objective value:                27.00000000\n",
      "Enumerated nodes:               0\n",
      "Total iterations:               0\n",
      "Time (CPU seconds):             0.00\n",
      "Time (Wallclock seconds):       0.00\n",
      "\n",
      "Option for printingOptions changed from normal to all\n",
      "Total time (CPU seconds):       0.00   (Wallclock seconds):       0.00\n",
      "\n"
     ]
    },
    {
     "data": {
      "text/plain": [
       "1"
      ]
     },
     "execution_count": 84,
     "metadata": {},
     "output_type": "execute_result"
    }
   ],
   "source": [
    "manufacture_products_lp.solve()"
   ]
  },
  {
   "cell_type": "code",
   "execution_count": 85,
   "id": "ff0d5f1f",
   "metadata": {},
   "outputs": [
    {
     "data": {
      "text/plain": [
       "'Optimal'"
      ]
     },
     "execution_count": 85,
     "metadata": {},
     "output_type": "execute_result"
    }
   ],
   "source": [
    "pulp.LpStatus[manufacture_products_lp.status]"
   ]
  },
  {
   "cell_type": "code",
   "execution_count": 86,
   "id": "08b54d72",
   "metadata": {},
   "outputs": [
    {
     "name": "stdout",
     "output_type": "stream",
     "text": [
      "the optimized solution: 27.0\n",
      "P1 2.0\n",
      "P2 3.0\n"
     ]
    }
   ],
   "source": [
    "print(\"the optimized solution:\",pulp.value(manufacture_products_lp.objective))\n",
    "for variable in manufacture_products_lp.variables():\n",
    "    print(variable.name,variable.varValue)"
   ]
  },
  {
   "cell_type": "markdown",
   "id": "f0a84a7e",
   "metadata": {},
   "source": [
    "7.problem"
   ]
  },
  {
   "cell_type": "markdown",
   "id": "8d81b9c9",
   "metadata": {},
   "source": [
    "Consider the following product mix example (Hadley, 1962). A shop that has three machines,\n",
    "A, B, and C, turns out four different products. Each product must be processed on each of\n",
    "the three machines (for example, lathes, drills, and milling machines). The following table\n",
    "shows the number of hours required by each product on each machine: The weekly time\n",
    "available on each of the machines is 2,000, 8,000, and 5,000 hours, respectively. The\n",
    "products contribute 5.24, 7.30, 8.34, and 4.18 to profit, respectively. What mixture of\n",
    "products can be manufactured to maximize profit?\n",
    "             product\n",
    "machines 1   2    3    4\n",
    "A       1.5  1   2.5   1\n",
    "B       1.0  5    1   3.5\n",
    "C       1.5  3   3.5   1"
   ]
  },
  {
   "cell_type": "code",
   "execution_count": 108,
   "id": "7e0b2464",
   "metadata": {},
   "outputs": [],
   "source": [
    "manufacture_products_lp=pulp.LpProblem(\"Maximize_profit_for_products\",pulp.LpMaximize)"
   ]
  },
  {
   "cell_type": "code",
   "execution_count": 109,
   "id": "60b4aca8",
   "metadata": {},
   "outputs": [],
   "source": [
    "P1=pulp.LpVariable(\"P1\",lowBound=1,cat=\"Integer\")\n",
    "P2=pulp.LpVariable(\"P2\",lowBound=1,cat=\"Integer\")\n",
    "P3=pulp.LpVariable(\"P3\",lowBound=1,cat=\"Integer\")\n",
    "P4=pulp.LpVariable(\"P4\",lowBound=1,cat=\"Integer\")"
   ]
  },
  {
   "cell_type": "code",
   "execution_count": 110,
   "id": "64f49ea5",
   "metadata": {},
   "outputs": [],
   "source": [
    "manufacture_products_lp += 5.24*P1+7.30*P2+8.34*P3+4.18*P4,'Z'"
   ]
  },
  {
   "cell_type": "code",
   "execution_count": 111,
   "id": "9b06096c",
   "metadata": {
    "scrolled": true
   },
   "outputs": [
    {
     "data": {
      "text/plain": [
       "Maximize_profit_for_products:\n",
       "MAXIMIZE\n",
       "5.24*P1 + 7.3*P2 + 8.34*P3 + 4.18*P4 + 0.0\n",
       "VARIABLES\n",
       "1 <= P1 Integer\n",
       "1 <= P2 Integer\n",
       "1 <= P3 Integer\n",
       "1 <= P4 Integer"
      ]
     },
     "execution_count": 111,
     "metadata": {},
     "output_type": "execute_result"
    }
   ],
   "source": [
    "manufacture_products_lp "
   ]
  },
  {
   "cell_type": "code",
   "execution_count": 112,
   "id": "3b5e65f1",
   "metadata": {},
   "outputs": [],
   "source": [
    "manufacture_products_lp += 1.5*P1+1*P2+2.4*P3+1*P4 <=2000,\"M1-constraint\"\n",
    "manufacture_products_lp += 1*P1+5*P2+1*P3+3.5*P4 <=8000,\"M2-constraint\"\n",
    "manufacture_products_lp += 1.5*P1+3*P2+3.5*P3+1*P4 <=5000,\"M3-constraint\""
   ]
  },
  {
   "cell_type": "code",
   "execution_count": 113,
   "id": "d409c20a",
   "metadata": {},
   "outputs": [
    {
     "data": {
      "text/plain": [
       "Maximize_profit_for_products:\n",
       "MAXIMIZE\n",
       "5.24*P1 + 7.3*P2 + 8.34*P3 + 4.18*P4 + 0.0\n",
       "SUBJECT TO\n",
       "M1_constraint: 1.5 P1 + P2 + 2.4 P3 + P4 <= 2000\n",
       "\n",
       "M2_constraint: P1 + 5 P2 + P3 + 3.5 P4 <= 8000\n",
       "\n",
       "M3_constraint: 1.5 P1 + 3 P2 + 3.5 P3 + P4 <= 5000\n",
       "\n",
       "VARIABLES\n",
       "1 <= P1 Integer\n",
       "1 <= P2 Integer\n",
       "1 <= P3 Integer\n",
       "1 <= P4 Integer"
      ]
     },
     "execution_count": 113,
     "metadata": {},
     "output_type": "execute_result"
    }
   ],
   "source": [
    "manufacture_products_lp"
   ]
  },
  {
   "cell_type": "code",
   "execution_count": 114,
   "id": "3553b49e",
   "metadata": {
    "collapsed": true
   },
   "outputs": [
    {
     "name": "stdout",
     "output_type": "stream",
     "text": [
      "Welcome to the CBC MILP Solver \n",
      "Version: 2.10.3 \n",
      "Build Date: Dec 15 2019 \n",
      "\n",
      "command line - /Users/middhladeekshitha/opt/anaconda3/lib/python3.9/site-packages/pulp/apis/../solverdir/cbc/osx/64/cbc /var/folders/yn/360cvd014rl8mzj87q1ncrtr0000gn/T/bfd731a2e0014df89cd8157310a97ac9-pulp.mps max timeMode elapsed branch printingOptions all solution /var/folders/yn/360cvd014rl8mzj87q1ncrtr0000gn/T/bfd731a2e0014df89cd8157310a97ac9-pulp.sol (default strategy 1)\n",
      "At line 2 NAME          MODEL\n",
      "At line 3 ROWS\n",
      "At line 8 COLUMNS\n",
      "At line 33 RHS\n",
      "At line 37 BOUNDS\n",
      "At line 42 ENDATA\n",
      "Problem MODEL has 3 rows, 4 columns and 12 elements\n",
      "Coin0008I MODEL read with 0 errors\n",
      "Option for timeMode changed from cpu to elapsed\n",
      "Continuous objective value is 12735.6 - 0.00 seconds\n",
      "Cgl0004I processed model has 3 rows, 4 columns (4 integer (0 of which binary)) and 12 elements\n",
      "Cutoff increment increased from 1e-05 to 0.01998\n",
      "Cbc0012I Integer solution of -12727.74 found by DiveCoefficient after 0 iterations and 0 nodes (0.01 seconds)\n",
      "Cbc0038I Full problem 3 rows 4 columns, reduced to 3 rows 3 columns\n",
      "Cbc0012I Integer solution of -12731.92 found by DiveCoefficient after 271 iterations and 0 nodes (0.03 seconds)\n",
      "Cbc0031I 3 added rows had average density of 4\n",
      "Cbc0013I At root node, 3 cuts changed objective from -12735.644 to -12733.57 in 100 passes\n",
      "Cbc0014I Cut generator 0 (Probing) - 0 row cuts average 0.0 elements, 0 column cuts (0 active)  in 0.001 seconds - new frequency is -100\n",
      "Cbc0014I Cut generator 1 (Gomory) - 179 row cuts average 4.0 elements, 0 column cuts (0 active)  in 0.002 seconds - new frequency is 1\n",
      "Cbc0014I Cut generator 2 (Knapsack) - 0 row cuts average 0.0 elements, 0 column cuts (0 active)  in 0.001 seconds - new frequency is -100\n",
      "Cbc0014I Cut generator 3 (Clique) - 0 row cuts average 0.0 elements, 0 column cuts (0 active)  in 0.000 seconds - new frequency is -100\n",
      "Cbc0014I Cut generator 4 (MixedIntegerRounding2) - 0 row cuts average 0.0 elements, 0 column cuts (0 active)  in 0.001 seconds - new frequency is -100\n",
      "Cbc0014I Cut generator 5 (FlowCover) - 0 row cuts average 0.0 elements, 0 column cuts (0 active)  in 0.001 seconds - new frequency is -100\n",
      "Cbc0010I After 0 nodes, 1 on tree, -12731.92 best solution, best possible -12733.57 (0.03 seconds)\n",
      "Cbc0012I Integer solution of -12732.98 found by DiveCoefficient after 287 iterations and 3 nodes (0.03 seconds)\n",
      "Cbc0001I Search completed - best objective -12732.98, took 309 iterations and 6 nodes (0.03 seconds)\n",
      "Cbc0032I Strong branching done 16 times (30 iterations), fathomed 0 nodes and fixed 1 variables\n",
      "Cbc0035I Maximum depth 2, 0 variables fixed on reduced cost\n",
      "Cuts at root node changed objective from -12735.6 to -12733.6\n",
      "Probing was tried 100 times and created 0 cuts of which 0 were active after adding rounds of cuts (0.001 seconds)\n",
      "Gomory was tried 114 times and created 201 cuts of which 0 were active after adding rounds of cuts (0.002 seconds)\n",
      "Knapsack was tried 100 times and created 0 cuts of which 0 were active after adding rounds of cuts (0.001 seconds)\n",
      "Clique was tried 100 times and created 0 cuts of which 0 were active after adding rounds of cuts (0.000 seconds)\n",
      "MixedIntegerRounding2 was tried 100 times and created 0 cuts of which 0 were active after adding rounds of cuts (0.001 seconds)\n",
      "FlowCover was tried 100 times and created 0 cuts of which 0 were active after adding rounds of cuts (0.001 seconds)\n",
      "TwoMirCuts was tried 1 times and created 0 cuts of which 0 were active after adding rounds of cuts (0.000 seconds)\n",
      "ZeroHalf was tried 1 times and created 0 cuts of which 0 were active after adding rounds of cuts (0.000 seconds)\n",
      "\n",
      "Result - Optimal solution found\n",
      "\n",
      "Objective value:                12732.98000000\n",
      "Enumerated nodes:               6\n",
      "Total iterations:               309\n",
      "Time (CPU seconds):             0.02\n",
      "Time (Wallclock seconds):       0.03\n",
      "\n",
      "Option for printingOptions changed from normal to all\n",
      "Total time (CPU seconds):       0.02   (Wallclock seconds):       0.04\n",
      "\n"
     ]
    },
    {
     "data": {
      "text/plain": [
       "1"
      ]
     },
     "execution_count": 114,
     "metadata": {},
     "output_type": "execute_result"
    }
   ],
   "source": [
    "manufacture_products_lp.solve()"
   ]
  },
  {
   "cell_type": "code",
   "execution_count": 115,
   "id": "93c44c06",
   "metadata": {},
   "outputs": [
    {
     "data": {
      "text/plain": [
       "'Optimal'"
      ]
     },
     "execution_count": 115,
     "metadata": {},
     "output_type": "execute_result"
    }
   ],
   "source": [
    "pulp.LpStatus[manufacture_products_lp.status]"
   ]
  },
  {
   "cell_type": "code",
   "execution_count": 116,
   "id": "b00273ce",
   "metadata": {
    "scrolled": true
   },
   "outputs": [
    {
     "name": "stdout",
     "output_type": "stream",
     "text": [
      "the optimized solution: 12732.98\n",
      "P1 293.0\n",
      "P2 1499.0\n",
      "P3 1.0\n",
      "P4 59.0\n"
     ]
    }
   ],
   "source": [
    "print(\"the optimized solution:\",pulp.value(manufacture_products_lp.objective))\n",
    "for variable in manufacture_products_lp.variables():\n",
    "    print(variable.name,variable.varValue)"
   ]
  },
  {
   "cell_type": "markdown",
   "id": "a999be45",
   "metadata": {},
   "source": [
    "9"
   ]
  },
  {
   "cell_type": "markdown",
   "id": "385fbf34",
   "metadata": {},
   "source": [
    "In his position as vice president of research and development (R&D) for CRT Technologies,\n",
    "Mark Schwartz is responsible for evaluating and choosing which R&D projects to support.\n",
    "The company received 18 R&D proposals from its scientists and engineers and identified six\n",
    "projects as being consistent with the company’s mission. However, the company does not\n",
    "have the funds available to undertake all six projects. Mark must determine which of the\n",
    "projects to select. The funding requirements for each project are summarized in the\n",
    "following table along with the NPV the company expects each project to generate. The\n",
    "company currently has 250,000 dollars available to invest in new projects. It has budgeted\n",
    "75,000 dollars for continued support for these projects in year 2 and 50,000 dollars per year\n",
    "for years 3, 4, and 5. Surplus funds in any year are re-appropriated for other uses within the\n",
    "company and may not be carried over to future years"
   ]
  },
  {
   "cell_type": "code",
   "execution_count": 5,
   "id": "1bda2d24",
   "metadata": {},
   "outputs": [],
   "source": [
    "manufacture_products_lp=pulp.LpProblem(\"Minimize_profit_for_products\",pulp.LpMinimize)"
   ]
  },
  {
   "cell_type": "code",
   "execution_count": 6,
   "id": "8d59c646",
   "metadata": {},
   "outputs": [],
   "source": [
    "P1=pulp.LpVariable(\"P1\",lowBound=1,cat=\"Integer\")\n",
    "P2=pulp.LpVariable(\"P2\",lowBound=1,cat=\"Integer\")\n",
    "P3=pulp.LpVariable(\"P3\",lowBound=1,cat=\"Integer\")\n",
    "P4=pulp.LpVariable(\"P4\",lowBound=1,cat=\"Integer\")\n",
    "P5=pulp.LpVariable(\"P5\",lowBound=1,cat=\"Integer\")\n",
    "P6=pulp.LpVariable(\"P6\",lowBound=1,cat=\"Integer\")\n",
    "P7=pulp.LpVariable(\"P7\",lowBound=1,cat=\"Integer\")\n",
    "P8=pulp.LpVariable(\"P8\",lowBound=1,cat=\"Integer\")\n",
    "P9=pulp.LpVariable(\"P9\",lowBound=1,cat=\"Integer\")"
   ]
  },
  {
   "cell_type": "code",
   "execution_count": null,
   "id": "e320024a",
   "metadata": {},
   "outputs": [],
   "source": [
    "#manufacture_products_lp += 5.24*P1+7.30*P2+8.34*P3+4.18*P4,'"
   ]
  },
  {
   "cell_type": "code",
   "execution_count": null,
   "id": "56610957",
   "metadata": {},
   "outputs": [],
   "source": [
    "#manufacture_products_lp"
   ]
  },
  {
   "cell_type": "code",
   "execution_count": 7,
   "id": "2f5afa00",
   "metadata": {},
   "outputs": [],
   "source": [
    "manufacture_products_lp += 21*P1+35*P4+55*P7 <=200000,\"c1\"\n",
    "manufacture_products_lp += 50*P2+30*P5+20*P8 <=600000,\"c2\"\n",
    "manufacture_products_lp += 40*P3+22*P6+25*P9 <=225000,\"c3\"\n",
    "manufacture_products_lp += 21*P1+50*P2+40*P3 <=275000,\"c4\"\n",
    "manufacture_products_lp += 35*P4+30*P5+22*P6 <=400000,\"c5\"\n",
    "manufacture_products_lp += 55*P7+20*P8+25*P9 <=300000,\"c6\""
   ]
  },
  {
   "cell_type": "code",
   "execution_count": 8,
   "id": "2aaa4045",
   "metadata": {},
   "outputs": [
    {
     "data": {
      "text/plain": [
       "Minimize_profit_for_products:\n",
       "MINIMIZE\n",
       "None\n",
       "SUBJECT TO\n",
       "c1: 21 P1 + 35 P4 + 55 P7 <= 200000\n",
       "\n",
       "c2: 50 P2 + 30 P5 + 20 P8 <= 600000\n",
       "\n",
       "c3: 40 P3 + 22 P6 + 25 P9 <= 225000\n",
       "\n",
       "c4: 21 P1 + 50 P2 + 40 P3 <= 275000\n",
       "\n",
       "c5: 35 P4 + 30 P5 + 22 P6 <= 400000\n",
       "\n",
       "c6: 55 P7 + 20 P8 + 25 P9 <= 300000\n",
       "\n",
       "VARIABLES\n",
       "1 <= P1 Integer\n",
       "1 <= P2 Integer\n",
       "1 <= P3 Integer\n",
       "1 <= P4 Integer\n",
       "1 <= P5 Integer\n",
       "1 <= P6 Integer\n",
       "1 <= P7 Integer\n",
       "1 <= P8 Integer\n",
       "1 <= P9 Integer"
      ]
     },
     "execution_count": 8,
     "metadata": {},
     "output_type": "execute_result"
    }
   ],
   "source": [
    "manufacture_products_lp"
   ]
  },
  {
   "cell_type": "code",
   "execution_count": 9,
   "id": "caebe74d",
   "metadata": {},
   "outputs": [
    {
     "name": "stdout",
     "output_type": "stream",
     "text": [
      "Welcome to the CBC MILP Solver \n",
      "Version: 2.10.3 \n",
      "Build Date: Dec 15 2019 \n",
      "\n",
      "command line - /Users/middhladeekshitha/opt/anaconda3/lib/python3.9/site-packages/pulp/apis/../solverdir/cbc/osx/64/cbc /var/folders/yn/360cvd014rl8mzj87q1ncrtr0000gn/T/7ee0b872f8e64e14853cfcb6684948f7-pulp.mps timeMode elapsed branch printingOptions all solution /var/folders/yn/360cvd014rl8mzj87q1ncrtr0000gn/T/7ee0b872f8e64e14853cfcb6684948f7-pulp.sol (default strategy 1)\n",
      "At line 2 NAME          MODEL\n",
      "At line 3 ROWS\n",
      "At line 11 COLUMNS\n",
      "At line 49 RHS\n",
      "At line 56 BOUNDS\n",
      "At line 67 ENDATA\n",
      "Problem MODEL has 6 rows, 10 columns and 18 elements\n",
      "Coin0008I MODEL read with 0 errors\n",
      "Option for timeMode changed from cpu to elapsed\n",
      "Continuous objective value is 0 - 0.00 seconds\n",
      "Cgl0004I processed model has 0 rows, 0 columns (0 integer (0 of which binary)) and 0 elements\n",
      "Cbc3007W No integer variables - nothing to do\n",
      "Cuts at root node changed objective from 0 to -1.79769e+308\n",
      "Probing was tried 0 times and created 0 cuts of which 0 were active after adding rounds of cuts (0.000 seconds)\n",
      "Gomory was tried 0 times and created 0 cuts of which 0 were active after adding rounds of cuts (0.000 seconds)\n",
      "Knapsack was tried 0 times and created 0 cuts of which 0 were active after adding rounds of cuts (0.000 seconds)\n",
      "Clique was tried 0 times and created 0 cuts of which 0 were active after adding rounds of cuts (0.000 seconds)\n",
      "MixedIntegerRounding2 was tried 0 times and created 0 cuts of which 0 were active after adding rounds of cuts (0.000 seconds)\n",
      "FlowCover was tried 0 times and created 0 cuts of which 0 were active after adding rounds of cuts (0.000 seconds)\n",
      "TwoMirCuts was tried 0 times and created 0 cuts of which 0 were active after adding rounds of cuts (0.000 seconds)\n",
      "ZeroHalf was tried 0 times and created 0 cuts of which 0 were active after adding rounds of cuts (0.000 seconds)\n",
      "\n",
      "Result - Optimal solution found\n",
      "\n",
      "Objective value:                0.00000000\n",
      "Enumerated nodes:               0\n",
      "Total iterations:               0\n",
      "Time (CPU seconds):             0.00\n",
      "Time (Wallclock seconds):       0.01\n",
      "\n",
      "Option for printingOptions changed from normal to all\n",
      "Total time (CPU seconds):       0.00   (Wallclock seconds):       0.02\n",
      "\n"
     ]
    },
    {
     "data": {
      "text/plain": [
       "1"
      ]
     },
     "execution_count": 9,
     "metadata": {},
     "output_type": "execute_result"
    }
   ],
   "source": [
    "manufacture_products_lp.solve()"
   ]
  },
  {
   "cell_type": "code",
   "execution_count": 10,
   "id": "f563d763",
   "metadata": {},
   "outputs": [
    {
     "data": {
      "text/plain": [
       "'Optimal'"
      ]
     },
     "execution_count": 10,
     "metadata": {},
     "output_type": "execute_result"
    }
   ],
   "source": [
    "pulp.LpStatus[manufacture_products_lp.status]"
   ]
  },
  {
   "cell_type": "code",
   "execution_count": 11,
   "id": "42f3e6c7",
   "metadata": {},
   "outputs": [
    {
     "ename": "AttributeError",
     "evalue": "'NoneType' object has no attribute 'value'",
     "output_type": "error",
     "traceback": [
      "\u001b[0;31m---------------------------------------------------------------------------\u001b[0m",
      "\u001b[0;31mAttributeError\u001b[0m                            Traceback (most recent call last)",
      "\u001b[0;32m/var/folders/yn/360cvd014rl8mzj87q1ncrtr0000gn/T/ipykernel_2541/1128998834.py\u001b[0m in \u001b[0;36m<module>\u001b[0;34m\u001b[0m\n\u001b[0;32m----> 1\u001b[0;31m \u001b[0mprint\u001b[0m\u001b[0;34m(\u001b[0m\u001b[0;34m\"the optimized solution:\"\u001b[0m\u001b[0;34m,\u001b[0m\u001b[0mpulp\u001b[0m\u001b[0;34m.\u001b[0m\u001b[0mvalue\u001b[0m\u001b[0;34m(\u001b[0m\u001b[0mmanufacture_products_lp\u001b[0m\u001b[0;34m.\u001b[0m\u001b[0mobjective\u001b[0m\u001b[0;34m)\u001b[0m\u001b[0;34m)\u001b[0m\u001b[0;34m\u001b[0m\u001b[0;34m\u001b[0m\u001b[0m\n\u001b[0m\u001b[1;32m      2\u001b[0m \u001b[0;32mfor\u001b[0m \u001b[0mvariable\u001b[0m \u001b[0;32min\u001b[0m \u001b[0mmanufacture_products_lp\u001b[0m\u001b[0;34m.\u001b[0m\u001b[0mvariables\u001b[0m\u001b[0;34m(\u001b[0m\u001b[0;34m)\u001b[0m\u001b[0;34m:\u001b[0m\u001b[0;34m\u001b[0m\u001b[0;34m\u001b[0m\u001b[0m\n\u001b[1;32m      3\u001b[0m     \u001b[0mprint\u001b[0m\u001b[0;34m(\u001b[0m\u001b[0mvariable\u001b[0m\u001b[0;34m.\u001b[0m\u001b[0mname\u001b[0m\u001b[0;34m,\u001b[0m\u001b[0mvariable\u001b[0m\u001b[0;34m.\u001b[0m\u001b[0mvarValue\u001b[0m\u001b[0;34m)\u001b[0m\u001b[0;34m\u001b[0m\u001b[0;34m\u001b[0m\u001b[0m\n",
      "\u001b[0;32m~/opt/anaconda3/lib/python3.9/site-packages/pulp/utilities.py\u001b[0m in \u001b[0;36mvalue\u001b[0;34m(x)\u001b[0m\n\u001b[1;32m     20\u001b[0m         \u001b[0;32mreturn\u001b[0m \u001b[0mx\u001b[0m\u001b[0;34m\u001b[0m\u001b[0;34m\u001b[0m\u001b[0m\n\u001b[1;32m     21\u001b[0m     \u001b[0;32melse\u001b[0m\u001b[0;34m:\u001b[0m\u001b[0;34m\u001b[0m\u001b[0;34m\u001b[0m\u001b[0m\n\u001b[0;32m---> 22\u001b[0;31m         \u001b[0;32mreturn\u001b[0m \u001b[0mx\u001b[0m\u001b[0;34m.\u001b[0m\u001b[0mvalue\u001b[0m\u001b[0;34m(\u001b[0m\u001b[0;34m)\u001b[0m\u001b[0;34m\u001b[0m\u001b[0;34m\u001b[0m\u001b[0m\n\u001b[0m\u001b[1;32m     23\u001b[0m \u001b[0;34m\u001b[0m\u001b[0m\n\u001b[1;32m     24\u001b[0m \u001b[0;34m\u001b[0m\u001b[0m\n",
      "\u001b[0;31mAttributeError\u001b[0m: 'NoneType' object has no attribute 'value'"
     ]
    }
   ],
   "source": [
    "print(\"the optimized solution:\",pulp.value(manufacture_products_lp.objective))\n",
    "for variable in manufacture_products_lp.variables():\n",
    "    print(variable.name,variable.varValue)"
   ]
  },
  {
   "cell_type": "markdown",
   "id": "57fb4488",
   "metadata": {},
   "source": [
    "10"
   ]
  },
  {
   "cell_type": "code",
   "execution_count": null,
   "id": "ce74b13f",
   "metadata": {},
   "outputs": [],
   "source": []
  },
  {
   "cell_type": "code",
   "execution_count": 29,
   "id": "e50e545e",
   "metadata": {},
   "outputs": [],
   "source": [
    "manufacture_products_lp=pulp.LpProblem(\"Minimize_profit_for_products\",pulp.LpMinimize)"
   ]
  },
  {
   "cell_type": "code",
   "execution_count": 30,
   "id": "1048dc42",
   "metadata": {},
   "outputs": [],
   "source": [
    "P1=pulp.LpVariable(\"P1\",lowBound=0,cat=\"Integer\")\n",
    "P2=pulp.LpVariable(\"P2\",lowBound=0,cat=\"Integer\")\n",
    "P3=pulp.LpVariable(\"P3\",lowBound=0,cat=\"Integer\")\n",
    "P4=pulp.LpVariable(\"P4\",lowBound=0,cat=\"Integer\")\n",
    "P5=pulp.LpVariable(\"P5\",lowBound=0,cat=\"Integer\")\n",
    "P6=pulp.LpVariable(\"P6\",lowBound=0,cat=\"Integer\")\n",
    "P7=pulp.LpVariable(\"P7\",lowBound=0,cat=\"Integer\")"
   ]
  },
  {
   "cell_type": "code",
   "execution_count": 31,
   "id": "a9bd8e92",
   "metadata": {},
   "outputs": [],
   "source": [
    "manufacture_products_lp += 680*P1+750*P2+705*P3+705*P4+705*P5+680*P6+655*P7,'z'"
   ]
  },
  {
   "cell_type": "code",
   "execution_count": 32,
   "id": "2dc82985",
   "metadata": {},
   "outputs": [
    {
     "data": {
      "text/plain": [
       "Minimize_profit_for_products:\n",
       "MINIMIZE\n",
       "680*P1 + 750*P2 + 705*P3 + 705*P4 + 705*P5 + 680*P6 + 655*P7 + 0\n",
       "VARIABLES\n",
       "0 <= P1 Integer\n",
       "0 <= P2 Integer\n",
       "0 <= P3 Integer\n",
       "0 <= P4 Integer\n",
       "0 <= P5 Integer\n",
       "0 <= P6 Integer\n",
       "0 <= P7 Integer"
      ]
     },
     "execution_count": 32,
     "metadata": {},
     "output_type": "execute_result"
    }
   ],
   "source": [
    "manufacture_products_lp"
   ]
  },
  {
   "cell_type": "code",
   "execution_count": 33,
   "id": "463cfc6b",
   "metadata": {},
   "outputs": [],
   "source": [
    "manufacture_products_lp += 0*P1+1*P2+1*P3+1*P4+1*P5+1*P6+0*P7 >=18,\"SUN\"\n",
    "manufacture_products_lp += 0*P1+0*P2+1*P3+1*P4+1*P5+1*P6+1*P7 >=27,\"MON\"\n",
    "manufacture_products_lp += 1*P1+0*P2+0*P3+1*P4+1*P5+1*P6+1*P7>=22,\"TUE\"\n",
    "manufacture_products_lp += 1*P1+1*P2+0*P3+0*P4+1*P5+1*P6+1*P7>=26,\"WED\"\n",
    "manufacture_products_lp += 1*P1+1*P2+1*P3+0*P4+0*P5+1*P6+1*P7>=25,\"THUR\"\n",
    "manufacture_products_lp += 1*P1+0*P2+1*P3+1*P4+0*P5+0*P6+1*P7>=21,\"FRI\"\n",
    "manufacture_products_lp += 1*P1+0*P2+1*P3+1*P4+1*P5+0*P6+1*P7>=19,\"SAT\""
   ]
  },
  {
   "cell_type": "code",
   "execution_count": 34,
   "id": "4d4b4748",
   "metadata": {},
   "outputs": [
    {
     "data": {
      "text/plain": [
       "Minimize_profit_for_products:\n",
       "MINIMIZE\n",
       "680*P1 + 750*P2 + 705*P3 + 705*P4 + 705*P5 + 680*P6 + 655*P7 + 0\n",
       "SUBJECT TO\n",
       "SUN: P2 + P3 + P4 + P5 + P6 >= 18\n",
       "\n",
       "MON: P3 + P4 + P5 + P6 + P7 >= 27\n",
       "\n",
       "TUE: P1 + P4 + P5 + P6 + P7 >= 22\n",
       "\n",
       "WED: P1 + P2 + P5 + P6 + P7 >= 26\n",
       "\n",
       "THUR: P1 + P2 + P3 + P6 + P7 >= 25\n",
       "\n",
       "FRI: P1 + P3 + P4 + P7 >= 21\n",
       "\n",
       "SAT: P1 + P3 + P4 + P5 + P7 >= 19\n",
       "\n",
       "VARIABLES\n",
       "0 <= P1 Integer\n",
       "0 <= P2 Integer\n",
       "0 <= P3 Integer\n",
       "0 <= P4 Integer\n",
       "0 <= P5 Integer\n",
       "0 <= P6 Integer\n",
       "0 <= P7 Integer"
      ]
     },
     "execution_count": 34,
     "metadata": {},
     "output_type": "execute_result"
    }
   ],
   "source": [
    "manufacture_products_lp"
   ]
  },
  {
   "cell_type": "code",
   "execution_count": 35,
   "id": "f431b7a9",
   "metadata": {
    "collapsed": true
   },
   "outputs": [
    {
     "name": "stdout",
     "output_type": "stream",
     "text": [
      "Welcome to the CBC MILP Solver \n",
      "Version: 2.10.3 \n",
      "Build Date: Dec 15 2019 \n",
      "\n",
      "command line - /Users/middhladeekshitha/opt/anaconda3/lib/python3.9/site-packages/pulp/apis/../solverdir/cbc/osx/64/cbc /var/folders/yn/360cvd014rl8mzj87q1ncrtr0000gn/T/ee588b31da96414f8de733fcd15c8b30-pulp.mps timeMode elapsed branch printingOptions all solution /var/folders/yn/360cvd014rl8mzj87q1ncrtr0000gn/T/ee588b31da96414f8de733fcd15c8b30-pulp.sol (default strategy 1)\n",
      "At line 2 NAME          MODEL\n",
      "At line 3 ROWS\n",
      "At line 12 COLUMNS\n",
      "At line 68 RHS\n",
      "At line 76 BOUNDS\n",
      "At line 84 ENDATA\n",
      "Problem MODEL has 7 rows, 7 columns and 34 elements\n",
      "Coin0008I MODEL read with 0 errors\n",
      "Option for timeMode changed from cpu to elapsed\n",
      "Continuous objective value is 21900 - 0.00 seconds\n",
      "Cgl0003I 0 fixed, 7 tightened bounds, 0 strengthened rows, 0 substitutions\n",
      "Cgl0004I processed model has 7 rows, 7 columns (7 integer (0 of which binary)) and 34 elements\n",
      "Cutoff increment increased from 1e-05 to 4.9999\n",
      "Cbc0012I Integer solution of 22310 found by greedy cover after 0 iterations and 0 nodes (0.01 seconds)\n",
      "Cbc0012I Integer solution of 22240 found by DiveCoefficient after 0 iterations and 0 nodes (0.01 seconds)\n",
      "Cbc0038I Full problem 7 rows 7 columns, reduced to 4 rows 3 columns\n",
      "Cbc0012I Integer solution of 22215 found by DiveCoefficient after 1 iterations and 0 nodes (0.02 seconds)\n",
      "Cbc0031I 1 added rows had average density of 7\n",
      "Cbc0013I At root node, 1 cuts changed objective from 21900 to 22215 in 2 passes\n",
      "Cbc0014I Cut generator 0 (Probing) - 0 row cuts average 0.0 elements, 1 column cuts (1 active)  in 0.000 seconds - new frequency is 1\n",
      "Cbc0014I Cut generator 1 (Gomory) - 1 row cuts average 7.0 elements, 0 column cuts (0 active)  in 0.000 seconds - new frequency is 1\n",
      "Cbc0014I Cut generator 2 (Knapsack) - 0 row cuts average 0.0 elements, 0 column cuts (0 active)  in 0.000 seconds - new frequency is -100\n",
      "Cbc0014I Cut generator 3 (Clique) - 0 row cuts average 0.0 elements, 0 column cuts (0 active)  in 0.000 seconds - new frequency is -100\n",
      "Cbc0014I Cut generator 4 (MixedIntegerRounding2) - 0 row cuts average 0.0 elements, 0 column cuts (0 active)  in 0.000 seconds - new frequency is -100\n",
      "Cbc0014I Cut generator 5 (FlowCover) - 0 row cuts average 0.0 elements, 0 column cuts (0 active)  in 0.000 seconds - new frequency is -100\n",
      "Cbc0001I Search completed - best objective 22215, took 1 iterations and 0 nodes (0.02 seconds)\n",
      "Cbc0035I Maximum depth 0, 0 variables fixed on reduced cost\n",
      "Cuts at root node changed objective from 21900 to 22215\n",
      "Probing was tried 2 times and created 1 cuts of which 0 were active after adding rounds of cuts (0.000 seconds)\n",
      "Gomory was tried 2 times and created 1 cuts of which 0 were active after adding rounds of cuts (0.000 seconds)\n",
      "Knapsack was tried 2 times and created 0 cuts of which 0 were active after adding rounds of cuts (0.000 seconds)\n",
      "Clique was tried 2 times and created 0 cuts of which 0 were active after adding rounds of cuts (0.000 seconds)\n",
      "MixedIntegerRounding2 was tried 2 times and created 0 cuts of which 0 were active after adding rounds of cuts (0.000 seconds)\n",
      "FlowCover was tried 2 times and created 0 cuts of which 0 were active after adding rounds of cuts (0.000 seconds)\n",
      "TwoMirCuts was tried 1 times and created 0 cuts of which 0 were active after adding rounds of cuts (0.000 seconds)\n",
      "ZeroHalf was tried 1 times and created 0 cuts of which 0 were active after adding rounds of cuts (0.000 seconds)\n",
      "\n",
      "Result - Optimal solution found\n",
      "\n",
      "Objective value:                22215.00000000\n",
      "Enumerated nodes:               0\n",
      "Total iterations:               1\n",
      "Time (CPU seconds):             0.01\n",
      "Time (Wallclock seconds):       0.02\n",
      "\n",
      "Option for printingOptions changed from normal to all\n",
      "Total time (CPU seconds):       0.01   (Wallclock seconds):       0.02\n",
      "\n"
     ]
    },
    {
     "data": {
      "text/plain": [
       "1"
      ]
     },
     "execution_count": 35,
     "metadata": {},
     "output_type": "execute_result"
    }
   ],
   "source": [
    "manufacture_products_lp.solve()"
   ]
  },
  {
   "cell_type": "code",
   "execution_count": 36,
   "id": "8e9b607e",
   "metadata": {},
   "outputs": [
    {
     "data": {
      "text/plain": [
       "'Optimal'"
      ]
     },
     "execution_count": 36,
     "metadata": {},
     "output_type": "execute_result"
    }
   ],
   "source": [
    "pulp.LpStatus[manufacture_products_lp.status]"
   ]
  },
  {
   "cell_type": "code",
   "execution_count": 37,
   "id": "28ec9e0e",
   "metadata": {},
   "outputs": [
    {
     "name": "stdout",
     "output_type": "stream",
     "text": [
      "the optimized solution: 22215.0\n",
      "P1 0.0\n",
      "P2 0.0\n",
      "P3 6.0\n",
      "P4 0.0\n",
      "P5 0.0\n",
      "P6 12.0\n",
      "P7 15.0\n"
     ]
    }
   ],
   "source": [
    "print(\"the optimized solution:\",pulp.value(manufacture_products_lp.objective))\n",
    "for variable in manufacture_products_lp.variables():\n",
    "    print(variable.name,variable.varValue)"
   ]
  },
  {
   "cell_type": "markdown",
   "id": "4c33e501",
   "metadata": {},
   "source": [
    "8."
   ]
  },
  {
   "cell_type": "code",
   "execution_count": 38,
   "id": "e6e5a9dd",
   "metadata": {},
   "outputs": [],
   "source": [
    "manufacture_products_lp=pulp.LpProblem(\"Maximize_profit_for_products\",pulp.LpMaximize)"
   ]
  },
  {
   "cell_type": "code",
   "execution_count": 39,
   "id": "83e39fb4",
   "metadata": {},
   "outputs": [],
   "source": [
    "P1=pulp.LpVariable(\"P1\",lowBound=0,cat=\"Integer\")\n",
    "P2=pulp.LpVariable(\"P2\",lowBound=0,cat=\"Integer\")\n",
    "P3=pulp.LpVariable(\"P3\",lowBound=0,cat=\"Integer\")\n",
    "P4=pulp.LpVariable(\"P4\",lowBound=0,cat=\"Integer\")\n",
    "P5=pulp.LpVariable(\"P5\",lowBound=0,cat=\"Integer\")\n",
    "P6=pulp.LpVariable(\"P6\",lowBound=0,cat=\"Integer\")\n"
   ]
  },
  {
   "cell_type": "code",
   "execution_count": 40,
   "id": "de83f673",
   "metadata": {},
   "outputs": [],
   "source": [
    "manufacture_products_lp += 141*P1+187*P2+121*P3+83*P4+265*P5+127*P6,'z'"
   ]
  },
  {
   "cell_type": "code",
   "execution_count": 41,
   "id": "1233be11",
   "metadata": {},
   "outputs": [
    {
     "data": {
      "text/plain": [
       "Maximize_profit_for_products:\n",
       "MAXIMIZE\n",
       "141*P1 + 187*P2 + 121*P3 + 83*P4 + 265*P5 + 127*P6 + 0\n",
       "VARIABLES\n",
       "0 <= P1 Integer\n",
       "0 <= P2 Integer\n",
       "0 <= P3 Integer\n",
       "0 <= P4 Integer\n",
       "0 <= P5 Integer\n",
       "0 <= P6 Integer"
      ]
     },
     "execution_count": 41,
     "metadata": {},
     "output_type": "execute_result"
    }
   ],
   "source": [
    "manufacture_products_lp"
   ]
  },
  {
   "cell_type": "code",
   "execution_count": 42,
   "id": "67652bb4",
   "metadata": {},
   "outputs": [],
   "source": [
    "manufacture_products_lp += 75*P1+90*P2+60*P3+30*P4+100*P5+50*P6 <=250,\"c1\"\n",
    "manufacture_products_lp += 25*P1+15*P2+15*P3+20*P4+25*P5+20*P6 <=750,\"c2\"\n",
    "manufacture_products_lp += 20*P1+0*P2+15*P3+10*P4+20*P5+10*P6 <=500,\"c3\"\n",
    "manufacture_products_lp += 15*P1+0*P2+15*P3+5*P4+20*P5+30*P6 <=500,\"c4\"\n",
    "manufacture_products_lp += 10*P1+30*P2+15*P3+5*P4+20*P5+40*P6 <=500,\"c5\""
   ]
  },
  {
   "cell_type": "code",
   "execution_count": 43,
   "id": "a83ce63d",
   "metadata": {},
   "outputs": [
    {
     "data": {
      "text/plain": [
       "Maximize_profit_for_products:\n",
       "MAXIMIZE\n",
       "141*P1 + 187*P2 + 121*P3 + 83*P4 + 265*P5 + 127*P6 + 0\n",
       "SUBJECT TO\n",
       "c1: 75 P1 + 90 P2 + 60 P3 + 30 P4 + 100 P5 + 50 P6 <= 250\n",
       "\n",
       "c2: 25 P1 + 15 P2 + 15 P3 + 20 P4 + 25 P5 + 20 P6 <= 750\n",
       "\n",
       "c3: 20 P1 + 15 P3 + 10 P4 + 20 P5 + 10 P6 <= 500\n",
       "\n",
       "c4: 15 P1 + 15 P3 + 5 P4 + 20 P5 + 30 P6 <= 500\n",
       "\n",
       "c5: 10 P1 + 30 P2 + 15 P3 + 5 P4 + 20 P5 + 40 P6 <= 500\n",
       "\n",
       "VARIABLES\n",
       "0 <= P1 Integer\n",
       "0 <= P2 Integer\n",
       "0 <= P3 Integer\n",
       "0 <= P4 Integer\n",
       "0 <= P5 Integer\n",
       "0 <= P6 Integer"
      ]
     },
     "execution_count": 43,
     "metadata": {},
     "output_type": "execute_result"
    }
   ],
   "source": [
    "manufacture_products_lp"
   ]
  },
  {
   "cell_type": "code",
   "execution_count": 44,
   "id": "bceec8d8",
   "metadata": {},
   "outputs": [
    {
     "name": "stdout",
     "output_type": "stream",
     "text": [
      "Welcome to the CBC MILP Solver \n",
      "Version: 2.10.3 \n",
      "Build Date: Dec 15 2019 \n",
      "\n",
      "command line - /Users/middhladeekshitha/opt/anaconda3/lib/python3.9/site-packages/pulp/apis/../solverdir/cbc/osx/64/cbc /var/folders/yn/360cvd014rl8mzj87q1ncrtr0000gn/T/a2de92337cbd4c889fcb7fe0af31dd6f-pulp.mps max timeMode elapsed branch printingOptions all solution /var/folders/yn/360cvd014rl8mzj87q1ncrtr0000gn/T/a2de92337cbd4c889fcb7fe0af31dd6f-pulp.sol (default strategy 1)\n",
      "At line 2 NAME          MODEL\n",
      "At line 3 ROWS\n",
      "At line 10 COLUMNS\n",
      "At line 57 RHS\n",
      "At line 63 BOUNDS\n",
      "At line 70 ENDATA\n",
      "Problem MODEL has 5 rows, 6 columns and 28 elements\n",
      "Coin0008I MODEL read with 0 errors\n",
      "Option for timeMode changed from cpu to elapsed\n",
      "Continuous objective value is 691.667 - 0.00 seconds\n",
      "Cgl0004I processed model has 1 rows, 6 columns (6 integer (0 of which binary)) and 6 elements\n",
      "Cutoff increment increased from 1e-05 to 0.9999\n",
      "Cbc0012I Integer solution of -664 found by DiveCoefficient after 0 iterations and 0 nodes (0.02 seconds)\n",
      "Cbc0012I Integer solution of -680 found by DiveCoefficient after 3 iterations and 0 nodes (0.03 seconds)\n",
      "Cbc0031I 2 added rows had average density of 3\n",
      "Cbc0013I At root node, 2 cuts changed objective from -690.5 to -680 in 3 passes\n",
      "Cbc0014I Cut generator 0 (Probing) - 0 row cuts average 0.0 elements, 0 column cuts (0 active)  in 0.000 seconds - new frequency is -100\n",
      "Cbc0014I Cut generator 1 (Gomory) - 2 row cuts average 3.0 elements, 0 column cuts (0 active)  in 0.000 seconds - new frequency is 1\n",
      "Cbc0014I Cut generator 2 (Knapsack) - 0 row cuts average 0.0 elements, 0 column cuts (0 active)  in 0.000 seconds - new frequency is -100\n",
      "Cbc0014I Cut generator 3 (Clique) - 0 row cuts average 0.0 elements, 0 column cuts (0 active)  in 0.000 seconds - new frequency is -100\n",
      "Cbc0014I Cut generator 4 (MixedIntegerRounding2) - 0 row cuts average 0.0 elements, 0 column cuts (0 active)  in 0.000 seconds - new frequency is -100\n",
      "Cbc0014I Cut generator 5 (FlowCover) - 0 row cuts average 0.0 elements, 0 column cuts (0 active)  in 0.000 seconds - new frequency is -100\n",
      "Cbc0001I Search completed - best objective -680, took 3 iterations and 0 nodes (0.03 seconds)\n",
      "Cbc0035I Maximum depth 0, 0 variables fixed on reduced cost\n",
      "Cuts at root node changed objective from -690.5 to -680\n",
      "Probing was tried 3 times and created 0 cuts of which 0 were active after adding rounds of cuts (0.000 seconds)\n",
      "Gomory was tried 3 times and created 2 cuts of which 0 were active after adding rounds of cuts (0.000 seconds)\n",
      "Knapsack was tried 3 times and created 0 cuts of which 0 were active after adding rounds of cuts (0.000 seconds)\n",
      "Clique was tried 3 times and created 0 cuts of which 0 were active after adding rounds of cuts (0.000 seconds)\n",
      "MixedIntegerRounding2 was tried 3 times and created 0 cuts of which 0 were active after adding rounds of cuts (0.000 seconds)\n",
      "FlowCover was tried 3 times and created 0 cuts of which 0 were active after adding rounds of cuts (0.000 seconds)\n",
      "TwoMirCuts was tried 1 times and created 0 cuts of which 0 were active after adding rounds of cuts (0.000 seconds)\n",
      "ZeroHalf was tried 1 times and created 0 cuts of which 0 were active after adding rounds of cuts (0.000 seconds)\n",
      "\n",
      "Result - Optimal solution found\n",
      "\n",
      "Objective value:                680.00000000\n",
      "Enumerated nodes:               0\n",
      "Total iterations:               3\n",
      "Time (CPU seconds):             0.00\n",
      "Time (Wallclock seconds):       0.03\n",
      "\n",
      "Option for printingOptions changed from normal to all\n",
      "Total time (CPU seconds):       0.00   (Wallclock seconds):       0.03\n",
      "\n"
     ]
    },
    {
     "data": {
      "text/plain": [
       "1"
      ]
     },
     "execution_count": 44,
     "metadata": {},
     "output_type": "execute_result"
    }
   ],
   "source": [
    "manufacture_products_lp.solve()"
   ]
  },
  {
   "cell_type": "code",
   "execution_count": 45,
   "id": "e608c6e1",
   "metadata": {},
   "outputs": [
    {
     "data": {
      "text/plain": [
       "'Optimal'"
      ]
     },
     "execution_count": 45,
     "metadata": {},
     "output_type": "execute_result"
    }
   ],
   "source": [
    "pulp.LpStatus[manufacture_products_lp.status]"
   ]
  },
  {
   "cell_type": "code",
   "execution_count": 46,
   "id": "99506b11",
   "metadata": {},
   "outputs": [
    {
     "name": "stdout",
     "output_type": "stream",
     "text": [
      "the optimized solution: 680.0\n",
      "P1 0.0\n",
      "P2 0.0\n",
      "P3 0.0\n",
      "P4 5.0\n",
      "P5 1.0\n",
      "P6 0.0\n"
     ]
    }
   ],
   "source": [
    "print(\"the optimized solution:\",pulp.value(manufacture_products_lp.objective))\n",
    "for variable in manufacture_products_lp.variables():\n",
    "    print(variable.name,variable.varValue)"
   ]
  },
  {
   "cell_type": "markdown",
   "id": "6f908abb",
   "metadata": {},
   "source": [
    "11"
   ]
  },
  {
   "cell_type": "markdown",
   "id": "78796f86",
   "metadata": {},
   "source": [
    " Consulting for a boutique car manufacturer, producing luxury cars.\n",
    "They run on one-month (30 days) cycles, we have one cycle to show we can prove value.\n",
    "There is one robot, 2 engineers and one detailer in the factory. The detailer has some\n",
    "holiday off, so only has 21 days available.\n",
    "The 2 cars need different time with each resource:\n",
    "Robot time: Car A – 3 days; Car B – 4 days.\n",
    "Engineer time: Car A – 5 days; Car B – 6 days.\n",
    "Detailer time: Car A – 1.5 days; Car B – 3 days.\n",
    "Car A provides €30,000 profit, whilst Car B offers €45,000 profit.\n",
    "At the moment, they produce 4 of each cars per month, for €300,000 profit. Not bad at all,\n",
    "but we think we can do better for them."
   ]
  },
  {
   "cell_type": "code",
   "execution_count": 61,
   "id": "adf862df",
   "metadata": {},
   "outputs": [],
   "source": [
    "manufacture_products_lp=pulp.LpProblem(\"Maximize_profit_for_products\",pulp.LpMaximize)"
   ]
  },
  {
   "cell_type": "code",
   "execution_count": 62,
   "id": "d5e574ff",
   "metadata": {},
   "outputs": [],
   "source": [
    "P1=pulp.LpVariable(\"P1\",lowBound=0,cat=\"Integer\")\n",
    "P2=pulp.LpVariable(\"P2\",lowBound=0,cat=\"Integer\")\n",
    "P3=pulp.LpVariable(\"P3\",lowBound=0,cat=\"Integer\")"
   ]
  },
  {
   "cell_type": "code",
   "execution_count": 63,
   "id": "2f7e3e94",
   "metadata": {},
   "outputs": [],
   "source": [
    "manufacture_products_lp += 30000*P1+45000*P2,'z'"
   ]
  },
  {
   "cell_type": "code",
   "execution_count": 64,
   "id": "08c31e92",
   "metadata": {},
   "outputs": [
    {
     "data": {
      "text/plain": [
       "Maximize_profit_for_products:\n",
       "MAXIMIZE\n",
       "30000*P1 + 45000*P2 + 0\n",
       "VARIABLES\n",
       "0 <= P1 Integer\n",
       "0 <= P2 Integer"
      ]
     },
     "execution_count": 64,
     "metadata": {},
     "output_type": "execute_result"
    }
   ],
   "source": [
    "manufacture_products_lp"
   ]
  },
  {
   "cell_type": "code",
   "execution_count": 65,
   "id": "01b86c5f",
   "metadata": {},
   "outputs": [],
   "source": [
    "manufacture_products_lp += 3*P1+4*P2 <=30,\"c1\"\n",
    "manufacture_products_lp += 5*P1+6*P2 <=30,\"c2\"\n",
    "manufacture_products_lp += 1.5*P1+3*P2 <=21,\"c3\"\n",
    "#manufacture_products_lp += 4*P1+4*P2 >=300000,\"c4\""
   ]
  },
  {
   "cell_type": "code",
   "execution_count": 66,
   "id": "dc87b83e",
   "metadata": {},
   "outputs": [
    {
     "data": {
      "text/plain": [
       "Maximize_profit_for_products:\n",
       "MAXIMIZE\n",
       "30000*P1 + 45000*P2 + 0\n",
       "SUBJECT TO\n",
       "c1: 3 P1 + 4 P2 <= 30\n",
       "\n",
       "c2: 5 P1 + 6 P2 <= 30\n",
       "\n",
       "c3: 1.5 P1 + 3 P2 <= 21\n",
       "\n",
       "VARIABLES\n",
       "0 <= P1 Integer\n",
       "0 <= P2 Integer"
      ]
     },
     "execution_count": 66,
     "metadata": {},
     "output_type": "execute_result"
    }
   ],
   "source": [
    "manufacture_products_lp"
   ]
  },
  {
   "cell_type": "code",
   "execution_count": 67,
   "id": "e441777f",
   "metadata": {},
   "outputs": [
    {
     "name": "stdout",
     "output_type": "stream",
     "text": [
      "Welcome to the CBC MILP Solver \n",
      "Version: 2.10.3 \n",
      "Build Date: Dec 15 2019 \n",
      "\n",
      "command line - /Users/middhladeekshitha/opt/anaconda3/lib/python3.9/site-packages/pulp/apis/../solverdir/cbc/osx/64/cbc /var/folders/yn/360cvd014rl8mzj87q1ncrtr0000gn/T/fdc2bbc01fe144158f83c64af7c1a27d-pulp.mps max timeMode elapsed branch printingOptions all solution /var/folders/yn/360cvd014rl8mzj87q1ncrtr0000gn/T/fdc2bbc01fe144158f83c64af7c1a27d-pulp.sol (default strategy 1)\n",
      "At line 2 NAME          MODEL\n",
      "At line 3 ROWS\n",
      "At line 8 COLUMNS\n",
      "At line 21 RHS\n",
      "At line 25 BOUNDS\n",
      "At line 28 ENDATA\n",
      "Problem MODEL has 3 rows, 2 columns and 6 elements\n",
      "Coin0008I MODEL read with 0 errors\n",
      "Option for timeMode changed from cpu to elapsed\n",
      "Continuous objective value is 225000 - 0.00 seconds\n",
      "Cgl0004I processed model has 3 rows, 2 columns (2 integer (0 of which binary)) and 6 elements\n",
      "Cutoff increment increased from 1e-05 to 15000\n",
      "Cbc0012I Integer solution of -225000 found by DiveCoefficient after 0 iterations and 0 nodes (0.01 seconds)\n",
      "Cbc0001I Search completed - best objective -225000, took 0 iterations and 0 nodes (0.01 seconds)\n",
      "Cbc0035I Maximum depth 0, 0 variables fixed on reduced cost\n",
      "Cuts at root node changed objective from -225000 to -225000\n",
      "Probing was tried 0 times and created 0 cuts of which 0 were active after adding rounds of cuts (0.000 seconds)\n",
      "Gomory was tried 0 times and created 0 cuts of which 0 were active after adding rounds of cuts (0.000 seconds)\n",
      "Knapsack was tried 0 times and created 0 cuts of which 0 were active after adding rounds of cuts (0.000 seconds)\n",
      "Clique was tried 0 times and created 0 cuts of which 0 were active after adding rounds of cuts (0.000 seconds)\n",
      "MixedIntegerRounding2 was tried 0 times and created 0 cuts of which 0 were active after adding rounds of cuts (0.000 seconds)\n",
      "FlowCover was tried 0 times and created 0 cuts of which 0 were active after adding rounds of cuts (0.000 seconds)\n",
      "TwoMirCuts was tried 0 times and created 0 cuts of which 0 were active after adding rounds of cuts (0.000 seconds)\n",
      "ZeroHalf was tried 0 times and created 0 cuts of which 0 were active after adding rounds of cuts (0.000 seconds)\n",
      "\n",
      "Result - Optimal solution found\n",
      "\n",
      "Objective value:                225000.00000000\n",
      "Enumerated nodes:               0\n",
      "Total iterations:               0\n",
      "Time (CPU seconds):             0.00\n",
      "Time (Wallclock seconds):       0.01\n",
      "\n",
      "Option for printingOptions changed from normal to all\n",
      "Total time (CPU seconds):       0.00   (Wallclock seconds):       0.01\n",
      "\n"
     ]
    },
    {
     "data": {
      "text/plain": [
       "1"
      ]
     },
     "execution_count": 67,
     "metadata": {},
     "output_type": "execute_result"
    }
   ],
   "source": [
    "manufacture_products_lp.solve()"
   ]
  },
  {
   "cell_type": "code",
   "execution_count": 68,
   "id": "6b008fe4",
   "metadata": {},
   "outputs": [
    {
     "data": {
      "text/plain": [
       "'Optimal'"
      ]
     },
     "execution_count": 68,
     "metadata": {},
     "output_type": "execute_result"
    }
   ],
   "source": [
    "pulp.LpStatus[manufacture_products_lp.status]"
   ]
  },
  {
   "cell_type": "code",
   "execution_count": 69,
   "id": "743356ab",
   "metadata": {},
   "outputs": [
    {
     "name": "stdout",
     "output_type": "stream",
     "text": [
      "the optimized solution: 225000.0\n",
      "P1 0.0\n",
      "P2 5.0\n"
     ]
    }
   ],
   "source": [
    "print(\"the optimized solution:\",pulp.value(manufacture_products_lp.objective))\n",
    "for variable in manufacture_products_lp.variables():\n",
    "    print(variable.name,variable.varValue)"
   ]
  },
  {
   "cell_type": "code",
   "execution_count": null,
   "id": "c0c62f36",
   "metadata": {},
   "outputs": [],
   "source": []
  }
 ],
 "metadata": {
  "kernelspec": {
   "display_name": "Python 3 (ipykernel)",
   "language": "python",
   "name": "python3"
  },
  "language_info": {
   "codemirror_mode": {
    "name": "ipython",
    "version": 3
   },
   "file_extension": ".py",
   "mimetype": "text/x-python",
   "name": "python",
   "nbconvert_exporter": "python",
   "pygments_lexer": "ipython3",
   "version": "3.9.7"
  }
 },
 "nbformat": 4,
 "nbformat_minor": 5
}
